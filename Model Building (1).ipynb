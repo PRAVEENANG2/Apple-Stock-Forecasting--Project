{
 "cells": [
  {
   "cell_type": "markdown",
   "id": "3c3e5647-9ab0-4ab6-ba4d-4a912cb609e7",
   "metadata": {},
   "source": [
    "# Apple Stock Forecast"
   ]
  },
  {
   "cell_type": "code",
   "execution_count": 1,
   "id": "56880965-e8c9-4505-b213-bc2f468930a0",
   "metadata": {},
   "outputs": [
    {
     "data": {
      "text/plain": [
       "(2011, 7)"
      ]
     },
     "execution_count": 1,
     "metadata": {},
     "output_type": "execute_result"
    }
   ],
   "source": [
    "import pandas as pd\n",
    "apple_data = pd.read_csv('AAPL.csv')\n",
    "apple_data.shape"
   ]
  },
  {
   "cell_type": "code",
   "execution_count": 3,
   "id": "9176babb-c581-42b1-905d-b353d977764a",
   "metadata": {},
   "outputs": [
    {
     "data": {
      "text/html": [
       "<div>\n",
       "<style scoped>\n",
       "    .dataframe tbody tr th:only-of-type {\n",
       "        vertical-align: middle;\n",
       "    }\n",
       "\n",
       "    .dataframe tbody tr th {\n",
       "        vertical-align: top;\n",
       "    }\n",
       "\n",
       "    .dataframe thead th {\n",
       "        text-align: right;\n",
       "    }\n",
       "</style>\n",
       "<table border=\"1\" class=\"dataframe\">\n",
       "  <thead>\n",
       "    <tr style=\"text-align: right;\">\n",
       "      <th></th>\n",
       "      <th>Date</th>\n",
       "      <th>Open</th>\n",
       "      <th>High</th>\n",
       "      <th>Low</th>\n",
       "      <th>Close</th>\n",
       "      <th>Adj Close</th>\n",
       "      <th>Volume</th>\n",
       "    </tr>\n",
       "  </thead>\n",
       "  <tbody>\n",
       "    <tr>\n",
       "      <th>0</th>\n",
       "      <td>2012-01-03</td>\n",
       "      <td>58.485714</td>\n",
       "      <td>58.928570</td>\n",
       "      <td>58.428570</td>\n",
       "      <td>58.747143</td>\n",
       "      <td>50.765709</td>\n",
       "      <td>75555200</td>\n",
       "    </tr>\n",
       "    <tr>\n",
       "      <th>1</th>\n",
       "      <td>2012-01-04</td>\n",
       "      <td>58.571430</td>\n",
       "      <td>59.240002</td>\n",
       "      <td>58.468571</td>\n",
       "      <td>59.062859</td>\n",
       "      <td>51.038536</td>\n",
       "      <td>65005500</td>\n",
       "    </tr>\n",
       "    <tr>\n",
       "      <th>2</th>\n",
       "      <td>2012-01-05</td>\n",
       "      <td>59.278572</td>\n",
       "      <td>59.792858</td>\n",
       "      <td>58.952858</td>\n",
       "      <td>59.718571</td>\n",
       "      <td>51.605175</td>\n",
       "      <td>67817400</td>\n",
       "    </tr>\n",
       "    <tr>\n",
       "      <th>3</th>\n",
       "      <td>2012-01-06</td>\n",
       "      <td>59.967144</td>\n",
       "      <td>60.392857</td>\n",
       "      <td>59.888573</td>\n",
       "      <td>60.342857</td>\n",
       "      <td>52.144630</td>\n",
       "      <td>79573200</td>\n",
       "    </tr>\n",
       "    <tr>\n",
       "      <th>4</th>\n",
       "      <td>2012-01-09</td>\n",
       "      <td>60.785713</td>\n",
       "      <td>61.107143</td>\n",
       "      <td>60.192856</td>\n",
       "      <td>60.247143</td>\n",
       "      <td>52.061932</td>\n",
       "      <td>98506100</td>\n",
       "    </tr>\n",
       "  </tbody>\n",
       "</table>\n",
       "</div>"
      ],
      "text/plain": [
       "         Date       Open       High        Low      Close  Adj Close    Volume\n",
       "0  2012-01-03  58.485714  58.928570  58.428570  58.747143  50.765709  75555200\n",
       "1  2012-01-04  58.571430  59.240002  58.468571  59.062859  51.038536  65005500\n",
       "2  2012-01-05  59.278572  59.792858  58.952858  59.718571  51.605175  67817400\n",
       "3  2012-01-06  59.967144  60.392857  59.888573  60.342857  52.144630  79573200\n",
       "4  2012-01-09  60.785713  61.107143  60.192856  60.247143  52.061932  98506100"
      ]
     },
     "execution_count": 3,
     "metadata": {},
     "output_type": "execute_result"
    }
   ],
   "source": [
    "apple_data.head()"
   ]
  },
  {
   "cell_type": "markdown",
   "id": "0d16da84-bf00-4f6d-99c0-65d6f13eb618",
   "metadata": {},
   "source": [
    "# Converting 'Date' column to datatime format"
   ]
  },
  {
   "cell_type": "code",
   "execution_count": 5,
   "id": "ab54e55c-abc5-4f9b-afcf-ef5be3e5299a",
   "metadata": {
    "scrolled": true
   },
   "outputs": [
    {
     "data": {
      "text/html": [
       "<div>\n",
       "<style scoped>\n",
       "    .dataframe tbody tr th:only-of-type {\n",
       "        vertical-align: middle;\n",
       "    }\n",
       "\n",
       "    .dataframe tbody tr th {\n",
       "        vertical-align: top;\n",
       "    }\n",
       "\n",
       "    .dataframe thead th {\n",
       "        text-align: right;\n",
       "    }\n",
       "</style>\n",
       "<table border=\"1\" class=\"dataframe\">\n",
       "  <thead>\n",
       "    <tr style=\"text-align: right;\">\n",
       "      <th></th>\n",
       "      <th>Open</th>\n",
       "      <th>High</th>\n",
       "      <th>Low</th>\n",
       "      <th>Close</th>\n",
       "      <th>Adj Close</th>\n",
       "      <th>Volume</th>\n",
       "    </tr>\n",
       "    <tr>\n",
       "      <th>Date</th>\n",
       "      <th></th>\n",
       "      <th></th>\n",
       "      <th></th>\n",
       "      <th></th>\n",
       "      <th></th>\n",
       "      <th></th>\n",
       "    </tr>\n",
       "  </thead>\n",
       "  <tbody>\n",
       "    <tr>\n",
       "      <th>2012-01-03</th>\n",
       "      <td>58.485714</td>\n",
       "      <td>58.928570</td>\n",
       "      <td>58.428570</td>\n",
       "      <td>58.747143</td>\n",
       "      <td>50.765709</td>\n",
       "      <td>75555200</td>\n",
       "    </tr>\n",
       "    <tr>\n",
       "      <th>2012-01-04</th>\n",
       "      <td>58.571430</td>\n",
       "      <td>59.240002</td>\n",
       "      <td>58.468571</td>\n",
       "      <td>59.062859</td>\n",
       "      <td>51.038536</td>\n",
       "      <td>65005500</td>\n",
       "    </tr>\n",
       "    <tr>\n",
       "      <th>2012-01-05</th>\n",
       "      <td>59.278572</td>\n",
       "      <td>59.792858</td>\n",
       "      <td>58.952858</td>\n",
       "      <td>59.718571</td>\n",
       "      <td>51.605175</td>\n",
       "      <td>67817400</td>\n",
       "    </tr>\n",
       "    <tr>\n",
       "      <th>2012-01-06</th>\n",
       "      <td>59.967144</td>\n",
       "      <td>60.392857</td>\n",
       "      <td>59.888573</td>\n",
       "      <td>60.342857</td>\n",
       "      <td>52.144630</td>\n",
       "      <td>79573200</td>\n",
       "    </tr>\n",
       "    <tr>\n",
       "      <th>2012-01-09</th>\n",
       "      <td>60.785713</td>\n",
       "      <td>61.107143</td>\n",
       "      <td>60.192856</td>\n",
       "      <td>60.247143</td>\n",
       "      <td>52.061932</td>\n",
       "      <td>98506100</td>\n",
       "    </tr>\n",
       "  </tbody>\n",
       "</table>\n",
       "</div>"
      ],
      "text/plain": [
       "                 Open       High        Low      Close  Adj Close    Volume\n",
       "Date                                                                       \n",
       "2012-01-03  58.485714  58.928570  58.428570  58.747143  50.765709  75555200\n",
       "2012-01-04  58.571430  59.240002  58.468571  59.062859  51.038536  65005500\n",
       "2012-01-05  59.278572  59.792858  58.952858  59.718571  51.605175  67817400\n",
       "2012-01-06  59.967144  60.392857  59.888573  60.342857  52.144630  79573200\n",
       "2012-01-09  60.785713  61.107143  60.192856  60.247143  52.061932  98506100"
      ]
     },
     "execution_count": 5,
     "metadata": {},
     "output_type": "execute_result"
    }
   ],
   "source": [
    "apple_data['Date'] = pd.to_datetime(apple_data['Date'])\n",
    "apple_data.set_index('Date', inplace = True)\n",
    "apple_data.head()"
   ]
  },
  {
   "cell_type": "markdown",
   "id": "e4c08c84-af2b-47be-b03c-b35cb95be110",
   "metadata": {},
   "source": [
    "# Feature Engineering"
   ]
  },
  {
   "cell_type": "markdown",
   "id": "03b22c42-a8c4-4be8-b7cc-d7ebad871cc7",
   "metadata": {},
   "source": [
    "# 1. Moving Averages (MA)"
   ]
  },
  {
   "cell_type": "code",
   "execution_count": 7,
   "id": "b036f033-e0cb-4b99-bdc1-bd2c7bdd888a",
   "metadata": {},
   "outputs": [
    {
     "data": {
      "text/html": [
       "<div>\n",
       "<style scoped>\n",
       "    .dataframe tbody tr th:only-of-type {\n",
       "        vertical-align: middle;\n",
       "    }\n",
       "\n",
       "    .dataframe tbody tr th {\n",
       "        vertical-align: top;\n",
       "    }\n",
       "\n",
       "    .dataframe thead th {\n",
       "        text-align: right;\n",
       "    }\n",
       "</style>\n",
       "<table border=\"1\" class=\"dataframe\">\n",
       "  <thead>\n",
       "    <tr style=\"text-align: right;\">\n",
       "      <th></th>\n",
       "      <th>Open</th>\n",
       "      <th>High</th>\n",
       "      <th>Low</th>\n",
       "      <th>Close</th>\n",
       "      <th>Adj Close</th>\n",
       "      <th>Volume</th>\n",
       "      <th>MA_7</th>\n",
       "      <th>MA_30</th>\n",
       "      <th>MA_50</th>\n",
       "      <th>MA_100</th>\n",
       "    </tr>\n",
       "    <tr>\n",
       "      <th>Date</th>\n",
       "      <th></th>\n",
       "      <th></th>\n",
       "      <th></th>\n",
       "      <th></th>\n",
       "      <th></th>\n",
       "      <th></th>\n",
       "      <th></th>\n",
       "      <th></th>\n",
       "      <th></th>\n",
       "      <th></th>\n",
       "    </tr>\n",
       "  </thead>\n",
       "  <tbody>\n",
       "    <tr>\n",
       "      <th>2012-01-03</th>\n",
       "      <td>58.485714</td>\n",
       "      <td>58.928570</td>\n",
       "      <td>58.428570</td>\n",
       "      <td>58.747143</td>\n",
       "      <td>50.765709</td>\n",
       "      <td>75555200</td>\n",
       "      <td>NaN</td>\n",
       "      <td>NaN</td>\n",
       "      <td>NaN</td>\n",
       "      <td>NaN</td>\n",
       "    </tr>\n",
       "    <tr>\n",
       "      <th>2012-01-04</th>\n",
       "      <td>58.571430</td>\n",
       "      <td>59.240002</td>\n",
       "      <td>58.468571</td>\n",
       "      <td>59.062859</td>\n",
       "      <td>51.038536</td>\n",
       "      <td>65005500</td>\n",
       "      <td>NaN</td>\n",
       "      <td>NaN</td>\n",
       "      <td>NaN</td>\n",
       "      <td>NaN</td>\n",
       "    </tr>\n",
       "    <tr>\n",
       "      <th>2012-01-05</th>\n",
       "      <td>59.278572</td>\n",
       "      <td>59.792858</td>\n",
       "      <td>58.952858</td>\n",
       "      <td>59.718571</td>\n",
       "      <td>51.605175</td>\n",
       "      <td>67817400</td>\n",
       "      <td>NaN</td>\n",
       "      <td>NaN</td>\n",
       "      <td>NaN</td>\n",
       "      <td>NaN</td>\n",
       "    </tr>\n",
       "    <tr>\n",
       "      <th>2012-01-06</th>\n",
       "      <td>59.967144</td>\n",
       "      <td>60.392857</td>\n",
       "      <td>59.888573</td>\n",
       "      <td>60.342857</td>\n",
       "      <td>52.144630</td>\n",
       "      <td>79573200</td>\n",
       "      <td>NaN</td>\n",
       "      <td>NaN</td>\n",
       "      <td>NaN</td>\n",
       "      <td>NaN</td>\n",
       "    </tr>\n",
       "    <tr>\n",
       "      <th>2012-01-09</th>\n",
       "      <td>60.785713</td>\n",
       "      <td>61.107143</td>\n",
       "      <td>60.192856</td>\n",
       "      <td>60.247143</td>\n",
       "      <td>52.061932</td>\n",
       "      <td>98506100</td>\n",
       "      <td>NaN</td>\n",
       "      <td>NaN</td>\n",
       "      <td>NaN</td>\n",
       "      <td>NaN</td>\n",
       "    </tr>\n",
       "  </tbody>\n",
       "</table>\n",
       "</div>"
      ],
      "text/plain": [
       "                 Open       High        Low      Close  Adj Close    Volume  \\\n",
       "Date                                                                          \n",
       "2012-01-03  58.485714  58.928570  58.428570  58.747143  50.765709  75555200   \n",
       "2012-01-04  58.571430  59.240002  58.468571  59.062859  51.038536  65005500   \n",
       "2012-01-05  59.278572  59.792858  58.952858  59.718571  51.605175  67817400   \n",
       "2012-01-06  59.967144  60.392857  59.888573  60.342857  52.144630  79573200   \n",
       "2012-01-09  60.785713  61.107143  60.192856  60.247143  52.061932  98506100   \n",
       "\n",
       "            MA_7  MA_30  MA_50  MA_100  \n",
       "Date                                    \n",
       "2012-01-03   NaN    NaN    NaN     NaN  \n",
       "2012-01-04   NaN    NaN    NaN     NaN  \n",
       "2012-01-05   NaN    NaN    NaN     NaN  \n",
       "2012-01-06   NaN    NaN    NaN     NaN  \n",
       "2012-01-09   NaN    NaN    NaN     NaN  "
      ]
     },
     "execution_count": 7,
     "metadata": {},
     "output_type": "execute_result"
    }
   ],
   "source": [
    "# Short-term & long-term moving averages\n",
    "apple_data[\"MA_7\"] = apple_data[\"Close\"].rolling(window = 7).mean()\n",
    "apple_data[\"MA_30\"] = apple_data[\"Close\"].rolling(window = 30).mean()\n",
    "apple_data[\"MA_50\"] = apple_data[\"Close\"].rolling(window = 50).mean()\n",
    "apple_data[\"MA_100\"] = apple_data[\"Close\"].rolling(window = 100).mean()\n",
    "\n",
    "apple_data.head()"
   ]
  },
  {
   "cell_type": "code",
   "execution_count": 9,
   "id": "72de4d3b-9675-41ce-983a-91d978ec761b",
   "metadata": {
    "scrolled": true
   },
   "outputs": [
    {
     "data": {
      "text/html": [
       "<div>\n",
       "<style scoped>\n",
       "    .dataframe tbody tr th:only-of-type {\n",
       "        vertical-align: middle;\n",
       "    }\n",
       "\n",
       "    .dataframe tbody tr th {\n",
       "        vertical-align: top;\n",
       "    }\n",
       "\n",
       "    .dataframe thead th {\n",
       "        text-align: right;\n",
       "    }\n",
       "</style>\n",
       "<table border=\"1\" class=\"dataframe\">\n",
       "  <thead>\n",
       "    <tr style=\"text-align: right;\">\n",
       "      <th></th>\n",
       "      <th>Open</th>\n",
       "      <th>High</th>\n",
       "      <th>Low</th>\n",
       "      <th>Close</th>\n",
       "      <th>Adj Close</th>\n",
       "      <th>Volume</th>\n",
       "      <th>MA_7</th>\n",
       "      <th>MA_30</th>\n",
       "      <th>MA_50</th>\n",
       "      <th>MA_100</th>\n",
       "    </tr>\n",
       "    <tr>\n",
       "      <th>Date</th>\n",
       "      <th></th>\n",
       "      <th></th>\n",
       "      <th></th>\n",
       "      <th></th>\n",
       "      <th></th>\n",
       "      <th></th>\n",
       "      <th></th>\n",
       "      <th></th>\n",
       "      <th></th>\n",
       "      <th></th>\n",
       "    </tr>\n",
       "  </thead>\n",
       "  <tbody>\n",
       "    <tr>\n",
       "      <th>2019-12-23</th>\n",
       "      <td>280.529999</td>\n",
       "      <td>284.250000</td>\n",
       "      <td>280.369995</td>\n",
       "      <td>284.000000</td>\n",
       "      <td>282.054138</td>\n",
       "      <td>24643000</td>\n",
       "      <td>279.802852</td>\n",
       "      <td>268.701334</td>\n",
       "      <td>259.6744</td>\n",
       "      <td>236.8043</td>\n",
       "    </tr>\n",
       "    <tr>\n",
       "      <th>2019-12-24</th>\n",
       "      <td>284.690002</td>\n",
       "      <td>284.890015</td>\n",
       "      <td>282.920013</td>\n",
       "      <td>284.269989</td>\n",
       "      <td>282.322266</td>\n",
       "      <td>12119700</td>\n",
       "      <td>281.105708</td>\n",
       "      <td>269.436999</td>\n",
       "      <td>260.6424</td>\n",
       "      <td>237.6068</td>\n",
       "    </tr>\n",
       "    <tr>\n",
       "      <th>2019-12-26</th>\n",
       "      <td>284.820007</td>\n",
       "      <td>289.980011</td>\n",
       "      <td>284.700012</td>\n",
       "      <td>289.910004</td>\n",
       "      <td>287.923645</td>\n",
       "      <td>23280300</td>\n",
       "      <td>282.541425</td>\n",
       "      <td>270.368667</td>\n",
       "      <td>261.7342</td>\n",
       "      <td>238.5725</td>\n",
       "    </tr>\n",
       "    <tr>\n",
       "      <th>2019-12-27</th>\n",
       "      <td>291.119995</td>\n",
       "      <td>293.970001</td>\n",
       "      <td>288.119995</td>\n",
       "      <td>289.799988</td>\n",
       "      <td>287.814392</td>\n",
       "      <td>36566500</td>\n",
       "      <td>283.882852</td>\n",
       "      <td>271.212999</td>\n",
       "      <td>262.8428</td>\n",
       "      <td>239.5005</td>\n",
       "    </tr>\n",
       "    <tr>\n",
       "      <th>2019-12-30</th>\n",
       "      <td>289.459991</td>\n",
       "      <td>292.690002</td>\n",
       "      <td>285.220001</td>\n",
       "      <td>291.519989</td>\n",
       "      <td>289.522614</td>\n",
       "      <td>36028600</td>\n",
       "      <td>285.565709</td>\n",
       "      <td>272.175665</td>\n",
       "      <td>263.9676</td>\n",
       "      <td>240.4253</td>\n",
       "    </tr>\n",
       "  </tbody>\n",
       "</table>\n",
       "</div>"
      ],
      "text/plain": [
       "                  Open        High         Low       Close   Adj Close  \\\n",
       "Date                                                                     \n",
       "2019-12-23  280.529999  284.250000  280.369995  284.000000  282.054138   \n",
       "2019-12-24  284.690002  284.890015  282.920013  284.269989  282.322266   \n",
       "2019-12-26  284.820007  289.980011  284.700012  289.910004  287.923645   \n",
       "2019-12-27  291.119995  293.970001  288.119995  289.799988  287.814392   \n",
       "2019-12-30  289.459991  292.690002  285.220001  291.519989  289.522614   \n",
       "\n",
       "              Volume        MA_7       MA_30     MA_50    MA_100  \n",
       "Date                                                              \n",
       "2019-12-23  24643000  279.802852  268.701334  259.6744  236.8043  \n",
       "2019-12-24  12119700  281.105708  269.436999  260.6424  237.6068  \n",
       "2019-12-26  23280300  282.541425  270.368667  261.7342  238.5725  \n",
       "2019-12-27  36566500  283.882852  271.212999  262.8428  239.5005  \n",
       "2019-12-30  36028600  285.565709  272.175665  263.9676  240.4253  "
      ]
     },
     "execution_count": 9,
     "metadata": {},
     "output_type": "execute_result"
    }
   ],
   "source": [
    "apple_data.tail()"
   ]
  },
  {
   "cell_type": "markdown",
   "id": "88b4ed4e-fcf8-4b84-a9d4-9a198b960c69",
   "metadata": {},
   "source": [
    "# 2. Lag Features (Previous Closing Prices)"
   ]
  },
  {
   "cell_type": "code",
   "execution_count": 11,
   "id": "112292f1-c95b-4b73-8c5a-3d0030693fe4",
   "metadata": {},
   "outputs": [
    {
     "data": {
      "text/html": [
       "<div>\n",
       "<style scoped>\n",
       "    .dataframe tbody tr th:only-of-type {\n",
       "        vertical-align: middle;\n",
       "    }\n",
       "\n",
       "    .dataframe tbody tr th {\n",
       "        vertical-align: top;\n",
       "    }\n",
       "\n",
       "    .dataframe thead th {\n",
       "        text-align: right;\n",
       "    }\n",
       "</style>\n",
       "<table border=\"1\" class=\"dataframe\">\n",
       "  <thead>\n",
       "    <tr style=\"text-align: right;\">\n",
       "      <th></th>\n",
       "      <th>Open</th>\n",
       "      <th>High</th>\n",
       "      <th>Low</th>\n",
       "      <th>Close</th>\n",
       "      <th>Adj Close</th>\n",
       "      <th>Volume</th>\n",
       "      <th>MA_7</th>\n",
       "      <th>MA_30</th>\n",
       "      <th>MA_50</th>\n",
       "      <th>MA_100</th>\n",
       "      <th>Lag_1</th>\n",
       "      <th>Lag_7</th>\n",
       "      <th>Lag_30</th>\n",
       "    </tr>\n",
       "    <tr>\n",
       "      <th>Date</th>\n",
       "      <th></th>\n",
       "      <th></th>\n",
       "      <th></th>\n",
       "      <th></th>\n",
       "      <th></th>\n",
       "      <th></th>\n",
       "      <th></th>\n",
       "      <th></th>\n",
       "      <th></th>\n",
       "      <th></th>\n",
       "      <th></th>\n",
       "      <th></th>\n",
       "      <th></th>\n",
       "    </tr>\n",
       "  </thead>\n",
       "  <tbody>\n",
       "    <tr>\n",
       "      <th>2012-01-03</th>\n",
       "      <td>58.485714</td>\n",
       "      <td>58.928570</td>\n",
       "      <td>58.428570</td>\n",
       "      <td>58.747143</td>\n",
       "      <td>50.765709</td>\n",
       "      <td>75555200</td>\n",
       "      <td>NaN</td>\n",
       "      <td>NaN</td>\n",
       "      <td>NaN</td>\n",
       "      <td>NaN</td>\n",
       "      <td>NaN</td>\n",
       "      <td>NaN</td>\n",
       "      <td>NaN</td>\n",
       "    </tr>\n",
       "    <tr>\n",
       "      <th>2012-01-04</th>\n",
       "      <td>58.571430</td>\n",
       "      <td>59.240002</td>\n",
       "      <td>58.468571</td>\n",
       "      <td>59.062859</td>\n",
       "      <td>51.038536</td>\n",
       "      <td>65005500</td>\n",
       "      <td>NaN</td>\n",
       "      <td>NaN</td>\n",
       "      <td>NaN</td>\n",
       "      <td>NaN</td>\n",
       "      <td>58.747143</td>\n",
       "      <td>NaN</td>\n",
       "      <td>NaN</td>\n",
       "    </tr>\n",
       "    <tr>\n",
       "      <th>2012-01-05</th>\n",
       "      <td>59.278572</td>\n",
       "      <td>59.792858</td>\n",
       "      <td>58.952858</td>\n",
       "      <td>59.718571</td>\n",
       "      <td>51.605175</td>\n",
       "      <td>67817400</td>\n",
       "      <td>NaN</td>\n",
       "      <td>NaN</td>\n",
       "      <td>NaN</td>\n",
       "      <td>NaN</td>\n",
       "      <td>59.062859</td>\n",
       "      <td>NaN</td>\n",
       "      <td>NaN</td>\n",
       "    </tr>\n",
       "    <tr>\n",
       "      <th>2012-01-06</th>\n",
       "      <td>59.967144</td>\n",
       "      <td>60.392857</td>\n",
       "      <td>59.888573</td>\n",
       "      <td>60.342857</td>\n",
       "      <td>52.144630</td>\n",
       "      <td>79573200</td>\n",
       "      <td>NaN</td>\n",
       "      <td>NaN</td>\n",
       "      <td>NaN</td>\n",
       "      <td>NaN</td>\n",
       "      <td>59.718571</td>\n",
       "      <td>NaN</td>\n",
       "      <td>NaN</td>\n",
       "    </tr>\n",
       "    <tr>\n",
       "      <th>2012-01-09</th>\n",
       "      <td>60.785713</td>\n",
       "      <td>61.107143</td>\n",
       "      <td>60.192856</td>\n",
       "      <td>60.247143</td>\n",
       "      <td>52.061932</td>\n",
       "      <td>98506100</td>\n",
       "      <td>NaN</td>\n",
       "      <td>NaN</td>\n",
       "      <td>NaN</td>\n",
       "      <td>NaN</td>\n",
       "      <td>60.342857</td>\n",
       "      <td>NaN</td>\n",
       "      <td>NaN</td>\n",
       "    </tr>\n",
       "  </tbody>\n",
       "</table>\n",
       "</div>"
      ],
      "text/plain": [
       "                 Open       High        Low      Close  Adj Close    Volume  \\\n",
       "Date                                                                          \n",
       "2012-01-03  58.485714  58.928570  58.428570  58.747143  50.765709  75555200   \n",
       "2012-01-04  58.571430  59.240002  58.468571  59.062859  51.038536  65005500   \n",
       "2012-01-05  59.278572  59.792858  58.952858  59.718571  51.605175  67817400   \n",
       "2012-01-06  59.967144  60.392857  59.888573  60.342857  52.144630  79573200   \n",
       "2012-01-09  60.785713  61.107143  60.192856  60.247143  52.061932  98506100   \n",
       "\n",
       "            MA_7  MA_30  MA_50  MA_100      Lag_1  Lag_7  Lag_30  \n",
       "Date                                                              \n",
       "2012-01-03   NaN    NaN    NaN     NaN        NaN    NaN     NaN  \n",
       "2012-01-04   NaN    NaN    NaN     NaN  58.747143    NaN     NaN  \n",
       "2012-01-05   NaN    NaN    NaN     NaN  59.062859    NaN     NaN  \n",
       "2012-01-06   NaN    NaN    NaN     NaN  59.718571    NaN     NaN  \n",
       "2012-01-09   NaN    NaN    NaN     NaN  60.342857    NaN     NaN  "
      ]
     },
     "execution_count": 11,
     "metadata": {},
     "output_type": "execute_result"
    }
   ],
   "source": [
    "# Lag features - previous stock prices\n",
    "apple_data[\"Lag_1\"] = apple_data[\"Close\"].shift(1)\n",
    "apple_data[\"Lag_7\"] = apple_data[\"Close\"].shift(7)\n",
    "apple_data[\"Lag_30\"] = apple_data[\"Close\"].shift(30)\n",
    "\n",
    "apple_data.head()"
   ]
  },
  {
   "cell_type": "code",
   "execution_count": 13,
   "id": "48e7824c-bbd5-4b55-baca-725581f1b616",
   "metadata": {},
   "outputs": [
    {
     "data": {
      "text/html": [
       "<div>\n",
       "<style scoped>\n",
       "    .dataframe tbody tr th:only-of-type {\n",
       "        vertical-align: middle;\n",
       "    }\n",
       "\n",
       "    .dataframe tbody tr th {\n",
       "        vertical-align: top;\n",
       "    }\n",
       "\n",
       "    .dataframe thead th {\n",
       "        text-align: right;\n",
       "    }\n",
       "</style>\n",
       "<table border=\"1\" class=\"dataframe\">\n",
       "  <thead>\n",
       "    <tr style=\"text-align: right;\">\n",
       "      <th></th>\n",
       "      <th>Open</th>\n",
       "      <th>High</th>\n",
       "      <th>Low</th>\n",
       "      <th>Close</th>\n",
       "      <th>Adj Close</th>\n",
       "      <th>Volume</th>\n",
       "      <th>MA_7</th>\n",
       "      <th>MA_30</th>\n",
       "      <th>MA_50</th>\n",
       "      <th>MA_100</th>\n",
       "      <th>Lag_1</th>\n",
       "      <th>Lag_7</th>\n",
       "      <th>Lag_30</th>\n",
       "    </tr>\n",
       "    <tr>\n",
       "      <th>Date</th>\n",
       "      <th></th>\n",
       "      <th></th>\n",
       "      <th></th>\n",
       "      <th></th>\n",
       "      <th></th>\n",
       "      <th></th>\n",
       "      <th></th>\n",
       "      <th></th>\n",
       "      <th></th>\n",
       "      <th></th>\n",
       "      <th></th>\n",
       "      <th></th>\n",
       "      <th></th>\n",
       "    </tr>\n",
       "  </thead>\n",
       "  <tbody>\n",
       "    <tr>\n",
       "      <th>2019-12-23</th>\n",
       "      <td>280.529999</td>\n",
       "      <td>284.250000</td>\n",
       "      <td>280.369995</td>\n",
       "      <td>284.000000</td>\n",
       "      <td>282.054138</td>\n",
       "      <td>24643000</td>\n",
       "      <td>279.802852</td>\n",
       "      <td>268.701334</td>\n",
       "      <td>259.6744</td>\n",
       "      <td>236.8043</td>\n",
       "      <td>279.440002</td>\n",
       "      <td>271.459991</td>\n",
       "      <td>260.140015</td>\n",
       "    </tr>\n",
       "    <tr>\n",
       "      <th>2019-12-24</th>\n",
       "      <td>284.690002</td>\n",
       "      <td>284.890015</td>\n",
       "      <td>282.920013</td>\n",
       "      <td>284.269989</td>\n",
       "      <td>282.322266</td>\n",
       "      <td>12119700</td>\n",
       "      <td>281.105708</td>\n",
       "      <td>269.436999</td>\n",
       "      <td>260.6424</td>\n",
       "      <td>237.6068</td>\n",
       "      <td>284.000000</td>\n",
       "      <td>275.149994</td>\n",
       "      <td>262.200012</td>\n",
       "    </tr>\n",
       "    <tr>\n",
       "      <th>2019-12-26</th>\n",
       "      <td>284.820007</td>\n",
       "      <td>289.980011</td>\n",
       "      <td>284.700012</td>\n",
       "      <td>289.910004</td>\n",
       "      <td>287.923645</td>\n",
       "      <td>23280300</td>\n",
       "      <td>282.541425</td>\n",
       "      <td>270.368667</td>\n",
       "      <td>261.7342</td>\n",
       "      <td>238.5725</td>\n",
       "      <td>284.269989</td>\n",
       "      <td>279.859985</td>\n",
       "      <td>261.959991</td>\n",
       "    </tr>\n",
       "    <tr>\n",
       "      <th>2019-12-27</th>\n",
       "      <td>291.119995</td>\n",
       "      <td>293.970001</td>\n",
       "      <td>288.119995</td>\n",
       "      <td>289.799988</td>\n",
       "      <td>287.814392</td>\n",
       "      <td>36566500</td>\n",
       "      <td>283.882852</td>\n",
       "      <td>271.212999</td>\n",
       "      <td>262.8428</td>\n",
       "      <td>239.5005</td>\n",
       "      <td>289.910004</td>\n",
       "      <td>280.410004</td>\n",
       "      <td>264.470001</td>\n",
       "    </tr>\n",
       "    <tr>\n",
       "      <th>2019-12-30</th>\n",
       "      <td>289.459991</td>\n",
       "      <td>292.690002</td>\n",
       "      <td>285.220001</td>\n",
       "      <td>291.519989</td>\n",
       "      <td>289.522614</td>\n",
       "      <td>36028600</td>\n",
       "      <td>285.565709</td>\n",
       "      <td>272.175665</td>\n",
       "      <td>263.9676</td>\n",
       "      <td>240.4253</td>\n",
       "      <td>289.799988</td>\n",
       "      <td>279.739990</td>\n",
       "      <td>262.640015</td>\n",
       "    </tr>\n",
       "  </tbody>\n",
       "</table>\n",
       "</div>"
      ],
      "text/plain": [
       "                  Open        High         Low       Close   Adj Close  \\\n",
       "Date                                                                     \n",
       "2019-12-23  280.529999  284.250000  280.369995  284.000000  282.054138   \n",
       "2019-12-24  284.690002  284.890015  282.920013  284.269989  282.322266   \n",
       "2019-12-26  284.820007  289.980011  284.700012  289.910004  287.923645   \n",
       "2019-12-27  291.119995  293.970001  288.119995  289.799988  287.814392   \n",
       "2019-12-30  289.459991  292.690002  285.220001  291.519989  289.522614   \n",
       "\n",
       "              Volume        MA_7       MA_30     MA_50    MA_100       Lag_1  \\\n",
       "Date                                                                           \n",
       "2019-12-23  24643000  279.802852  268.701334  259.6744  236.8043  279.440002   \n",
       "2019-12-24  12119700  281.105708  269.436999  260.6424  237.6068  284.000000   \n",
       "2019-12-26  23280300  282.541425  270.368667  261.7342  238.5725  284.269989   \n",
       "2019-12-27  36566500  283.882852  271.212999  262.8428  239.5005  289.910004   \n",
       "2019-12-30  36028600  285.565709  272.175665  263.9676  240.4253  289.799988   \n",
       "\n",
       "                 Lag_7      Lag_30  \n",
       "Date                                \n",
       "2019-12-23  271.459991  260.140015  \n",
       "2019-12-24  275.149994  262.200012  \n",
       "2019-12-26  279.859985  261.959991  \n",
       "2019-12-27  280.410004  264.470001  \n",
       "2019-12-30  279.739990  262.640015  "
      ]
     },
     "execution_count": 13,
     "metadata": {},
     "output_type": "execute_result"
    }
   ],
   "source": [
    "apple_data.tail()"
   ]
  },
  {
   "cell_type": "markdown",
   "id": "4189b969-37df-4439-a794-d5f010390161",
   "metadata": {},
   "source": [
    "# 3. Volatility Indicators"
   ]
  },
  {
   "cell_type": "code",
   "execution_count": 15,
   "id": "cd08bf57-f758-40ad-bce3-e1dd5fb630fc",
   "metadata": {},
   "outputs": [
    {
     "data": {
      "text/html": [
       "<div>\n",
       "<style scoped>\n",
       "    .dataframe tbody tr th:only-of-type {\n",
       "        vertical-align: middle;\n",
       "    }\n",
       "\n",
       "    .dataframe tbody tr th {\n",
       "        vertical-align: top;\n",
       "    }\n",
       "\n",
       "    .dataframe thead th {\n",
       "        text-align: right;\n",
       "    }\n",
       "</style>\n",
       "<table border=\"1\" class=\"dataframe\">\n",
       "  <thead>\n",
       "    <tr style=\"text-align: right;\">\n",
       "      <th></th>\n",
       "      <th>Open</th>\n",
       "      <th>High</th>\n",
       "      <th>Low</th>\n",
       "      <th>Close</th>\n",
       "      <th>Adj Close</th>\n",
       "      <th>Volume</th>\n",
       "      <th>MA_7</th>\n",
       "      <th>MA_30</th>\n",
       "      <th>MA_50</th>\n",
       "      <th>MA_100</th>\n",
       "      <th>Lag_1</th>\n",
       "      <th>Lag_7</th>\n",
       "      <th>Lag_30</th>\n",
       "      <th>Volatility_7</th>\n",
       "      <th>Volatility_30</th>\n",
       "    </tr>\n",
       "    <tr>\n",
       "      <th>Date</th>\n",
       "      <th></th>\n",
       "      <th></th>\n",
       "      <th></th>\n",
       "      <th></th>\n",
       "      <th></th>\n",
       "      <th></th>\n",
       "      <th></th>\n",
       "      <th></th>\n",
       "      <th></th>\n",
       "      <th></th>\n",
       "      <th></th>\n",
       "      <th></th>\n",
       "      <th></th>\n",
       "      <th></th>\n",
       "      <th></th>\n",
       "    </tr>\n",
       "  </thead>\n",
       "  <tbody>\n",
       "    <tr>\n",
       "      <th>2012-01-03</th>\n",
       "      <td>58.485714</td>\n",
       "      <td>58.928570</td>\n",
       "      <td>58.428570</td>\n",
       "      <td>58.747143</td>\n",
       "      <td>50.765709</td>\n",
       "      <td>75555200</td>\n",
       "      <td>NaN</td>\n",
       "      <td>NaN</td>\n",
       "      <td>NaN</td>\n",
       "      <td>NaN</td>\n",
       "      <td>NaN</td>\n",
       "      <td>NaN</td>\n",
       "      <td>NaN</td>\n",
       "      <td>NaN</td>\n",
       "      <td>NaN</td>\n",
       "    </tr>\n",
       "    <tr>\n",
       "      <th>2012-01-04</th>\n",
       "      <td>58.571430</td>\n",
       "      <td>59.240002</td>\n",
       "      <td>58.468571</td>\n",
       "      <td>59.062859</td>\n",
       "      <td>51.038536</td>\n",
       "      <td>65005500</td>\n",
       "      <td>NaN</td>\n",
       "      <td>NaN</td>\n",
       "      <td>NaN</td>\n",
       "      <td>NaN</td>\n",
       "      <td>58.747143</td>\n",
       "      <td>NaN</td>\n",
       "      <td>NaN</td>\n",
       "      <td>NaN</td>\n",
       "      <td>NaN</td>\n",
       "    </tr>\n",
       "    <tr>\n",
       "      <th>2012-01-05</th>\n",
       "      <td>59.278572</td>\n",
       "      <td>59.792858</td>\n",
       "      <td>58.952858</td>\n",
       "      <td>59.718571</td>\n",
       "      <td>51.605175</td>\n",
       "      <td>67817400</td>\n",
       "      <td>NaN</td>\n",
       "      <td>NaN</td>\n",
       "      <td>NaN</td>\n",
       "      <td>NaN</td>\n",
       "      <td>59.062859</td>\n",
       "      <td>NaN</td>\n",
       "      <td>NaN</td>\n",
       "      <td>NaN</td>\n",
       "      <td>NaN</td>\n",
       "    </tr>\n",
       "    <tr>\n",
       "      <th>2012-01-06</th>\n",
       "      <td>59.967144</td>\n",
       "      <td>60.392857</td>\n",
       "      <td>59.888573</td>\n",
       "      <td>60.342857</td>\n",
       "      <td>52.144630</td>\n",
       "      <td>79573200</td>\n",
       "      <td>NaN</td>\n",
       "      <td>NaN</td>\n",
       "      <td>NaN</td>\n",
       "      <td>NaN</td>\n",
       "      <td>59.718571</td>\n",
       "      <td>NaN</td>\n",
       "      <td>NaN</td>\n",
       "      <td>NaN</td>\n",
       "      <td>NaN</td>\n",
       "    </tr>\n",
       "    <tr>\n",
       "      <th>2012-01-09</th>\n",
       "      <td>60.785713</td>\n",
       "      <td>61.107143</td>\n",
       "      <td>60.192856</td>\n",
       "      <td>60.247143</td>\n",
       "      <td>52.061932</td>\n",
       "      <td>98506100</td>\n",
       "      <td>NaN</td>\n",
       "      <td>NaN</td>\n",
       "      <td>NaN</td>\n",
       "      <td>NaN</td>\n",
       "      <td>60.342857</td>\n",
       "      <td>NaN</td>\n",
       "      <td>NaN</td>\n",
       "      <td>NaN</td>\n",
       "      <td>NaN</td>\n",
       "    </tr>\n",
       "  </tbody>\n",
       "</table>\n",
       "</div>"
      ],
      "text/plain": [
       "                 Open       High        Low      Close  Adj Close    Volume  \\\n",
       "Date                                                                          \n",
       "2012-01-03  58.485714  58.928570  58.428570  58.747143  50.765709  75555200   \n",
       "2012-01-04  58.571430  59.240002  58.468571  59.062859  51.038536  65005500   \n",
       "2012-01-05  59.278572  59.792858  58.952858  59.718571  51.605175  67817400   \n",
       "2012-01-06  59.967144  60.392857  59.888573  60.342857  52.144630  79573200   \n",
       "2012-01-09  60.785713  61.107143  60.192856  60.247143  52.061932  98506100   \n",
       "\n",
       "            MA_7  MA_30  MA_50  MA_100      Lag_1  Lag_7  Lag_30  \\\n",
       "Date                                                               \n",
       "2012-01-03   NaN    NaN    NaN     NaN        NaN    NaN     NaN   \n",
       "2012-01-04   NaN    NaN    NaN     NaN  58.747143    NaN     NaN   \n",
       "2012-01-05   NaN    NaN    NaN     NaN  59.062859    NaN     NaN   \n",
       "2012-01-06   NaN    NaN    NaN     NaN  59.718571    NaN     NaN   \n",
       "2012-01-09   NaN    NaN    NaN     NaN  60.342857    NaN     NaN   \n",
       "\n",
       "            Volatility_7  Volatility_30  \n",
       "Date                                     \n",
       "2012-01-03           NaN            NaN  \n",
       "2012-01-04           NaN            NaN  \n",
       "2012-01-05           NaN            NaN  \n",
       "2012-01-06           NaN            NaN  \n",
       "2012-01-09           NaN            NaN  "
      ]
     },
     "execution_count": 15,
     "metadata": {},
     "output_type": "execute_result"
    }
   ],
   "source": [
    "# Rolling standard deviation for volatility tracking\n",
    "apple_data[\"Volatility_7\"] = apple_data[\"Close\"].rolling(window = 7).std()\n",
    "apple_data[\"Volatility_30\"] = apple_data[\"Close\"].rolling(window = 30).std()\n",
    "\n",
    "apple_data.head()"
   ]
  },
  {
   "cell_type": "code",
   "execution_count": 17,
   "id": "8f850669-e095-4f5d-81dc-e2aa48089f4b",
   "metadata": {},
   "outputs": [
    {
     "data": {
      "text/html": [
       "<div>\n",
       "<style scoped>\n",
       "    .dataframe tbody tr th:only-of-type {\n",
       "        vertical-align: middle;\n",
       "    }\n",
       "\n",
       "    .dataframe tbody tr th {\n",
       "        vertical-align: top;\n",
       "    }\n",
       "\n",
       "    .dataframe thead th {\n",
       "        text-align: right;\n",
       "    }\n",
       "</style>\n",
       "<table border=\"1\" class=\"dataframe\">\n",
       "  <thead>\n",
       "    <tr style=\"text-align: right;\">\n",
       "      <th></th>\n",
       "      <th>Open</th>\n",
       "      <th>High</th>\n",
       "      <th>Low</th>\n",
       "      <th>Close</th>\n",
       "      <th>Adj Close</th>\n",
       "      <th>Volume</th>\n",
       "      <th>MA_7</th>\n",
       "      <th>MA_30</th>\n",
       "      <th>MA_50</th>\n",
       "      <th>MA_100</th>\n",
       "      <th>Lag_1</th>\n",
       "      <th>Lag_7</th>\n",
       "      <th>Lag_30</th>\n",
       "      <th>Volatility_7</th>\n",
       "      <th>Volatility_30</th>\n",
       "    </tr>\n",
       "    <tr>\n",
       "      <th>Date</th>\n",
       "      <th></th>\n",
       "      <th></th>\n",
       "      <th></th>\n",
       "      <th></th>\n",
       "      <th></th>\n",
       "      <th></th>\n",
       "      <th></th>\n",
       "      <th></th>\n",
       "      <th></th>\n",
       "      <th></th>\n",
       "      <th></th>\n",
       "      <th></th>\n",
       "      <th></th>\n",
       "      <th></th>\n",
       "      <th></th>\n",
       "    </tr>\n",
       "  </thead>\n",
       "  <tbody>\n",
       "    <tr>\n",
       "      <th>2019-12-23</th>\n",
       "      <td>280.529999</td>\n",
       "      <td>284.250000</td>\n",
       "      <td>280.369995</td>\n",
       "      <td>284.000000</td>\n",
       "      <td>282.054138</td>\n",
       "      <td>24643000</td>\n",
       "      <td>279.802852</td>\n",
       "      <td>268.701334</td>\n",
       "      <td>259.6744</td>\n",
       "      <td>236.8043</td>\n",
       "      <td>279.440002</td>\n",
       "      <td>271.459991</td>\n",
       "      <td>260.140015</td>\n",
       "      <td>2.576166</td>\n",
       "      <td>6.938819</td>\n",
       "    </tr>\n",
       "    <tr>\n",
       "      <th>2019-12-24</th>\n",
       "      <td>284.690002</td>\n",
       "      <td>284.890015</td>\n",
       "      <td>282.920013</td>\n",
       "      <td>284.269989</td>\n",
       "      <td>282.322266</td>\n",
       "      <td>12119700</td>\n",
       "      <td>281.105708</td>\n",
       "      <td>269.436999</td>\n",
       "      <td>260.6424</td>\n",
       "      <td>237.6068</td>\n",
       "      <td>284.000000</td>\n",
       "      <td>275.149994</td>\n",
       "      <td>262.200012</td>\n",
       "      <td>2.091410</td>\n",
       "      <td>7.381592</td>\n",
       "    </tr>\n",
       "    <tr>\n",
       "      <th>2019-12-26</th>\n",
       "      <td>284.820007</td>\n",
       "      <td>289.980011</td>\n",
       "      <td>284.700012</td>\n",
       "      <td>289.910004</td>\n",
       "      <td>287.923645</td>\n",
       "      <td>23280300</td>\n",
       "      <td>282.541425</td>\n",
       "      <td>270.368667</td>\n",
       "      <td>261.7342</td>\n",
       "      <td>238.5725</td>\n",
       "      <td>284.269989</td>\n",
       "      <td>279.859985</td>\n",
       "      <td>261.959991</td>\n",
       "      <td>3.824892</td>\n",
       "      <td>8.131139</td>\n",
       "    </tr>\n",
       "    <tr>\n",
       "      <th>2019-12-27</th>\n",
       "      <td>291.119995</td>\n",
       "      <td>293.970001</td>\n",
       "      <td>288.119995</td>\n",
       "      <td>289.799988</td>\n",
       "      <td>287.814392</td>\n",
       "      <td>36566500</td>\n",
       "      <td>283.882852</td>\n",
       "      <td>271.212999</td>\n",
       "      <td>262.8428</td>\n",
       "      <td>239.5005</td>\n",
       "      <td>289.910004</td>\n",
       "      <td>280.410004</td>\n",
       "      <td>264.470001</td>\n",
       "      <td>4.533700</td>\n",
       "      <td>8.786240</td>\n",
       "    </tr>\n",
       "    <tr>\n",
       "      <th>2019-12-30</th>\n",
       "      <td>289.459991</td>\n",
       "      <td>292.690002</td>\n",
       "      <td>285.220001</td>\n",
       "      <td>291.519989</td>\n",
       "      <td>289.522614</td>\n",
       "      <td>36028600</td>\n",
       "      <td>285.565709</td>\n",
       "      <td>272.175665</td>\n",
       "      <td>263.9676</td>\n",
       "      <td>240.4253</td>\n",
       "      <td>289.799988</td>\n",
       "      <td>279.739990</td>\n",
       "      <td>262.640015</td>\n",
       "      <td>4.910280</td>\n",
       "      <td>9.376821</td>\n",
       "    </tr>\n",
       "  </tbody>\n",
       "</table>\n",
       "</div>"
      ],
      "text/plain": [
       "                  Open        High         Low       Close   Adj Close  \\\n",
       "Date                                                                     \n",
       "2019-12-23  280.529999  284.250000  280.369995  284.000000  282.054138   \n",
       "2019-12-24  284.690002  284.890015  282.920013  284.269989  282.322266   \n",
       "2019-12-26  284.820007  289.980011  284.700012  289.910004  287.923645   \n",
       "2019-12-27  291.119995  293.970001  288.119995  289.799988  287.814392   \n",
       "2019-12-30  289.459991  292.690002  285.220001  291.519989  289.522614   \n",
       "\n",
       "              Volume        MA_7       MA_30     MA_50    MA_100       Lag_1  \\\n",
       "Date                                                                           \n",
       "2019-12-23  24643000  279.802852  268.701334  259.6744  236.8043  279.440002   \n",
       "2019-12-24  12119700  281.105708  269.436999  260.6424  237.6068  284.000000   \n",
       "2019-12-26  23280300  282.541425  270.368667  261.7342  238.5725  284.269989   \n",
       "2019-12-27  36566500  283.882852  271.212999  262.8428  239.5005  289.910004   \n",
       "2019-12-30  36028600  285.565709  272.175665  263.9676  240.4253  289.799988   \n",
       "\n",
       "                 Lag_7      Lag_30  Volatility_7  Volatility_30  \n",
       "Date                                                             \n",
       "2019-12-23  271.459991  260.140015      2.576166       6.938819  \n",
       "2019-12-24  275.149994  262.200012      2.091410       7.381592  \n",
       "2019-12-26  279.859985  261.959991      3.824892       8.131139  \n",
       "2019-12-27  280.410004  264.470001      4.533700       8.786240  \n",
       "2019-12-30  279.739990  262.640015      4.910280       9.376821  "
      ]
     },
     "execution_count": 17,
     "metadata": {},
     "output_type": "execute_result"
    }
   ],
   "source": [
    "apple_data.tail()"
   ]
  },
  {
   "cell_type": "markdown",
   "id": "ea52d40c-199b-49b7-afd9-f950cd3ac628",
   "metadata": {},
   "source": [
    "# 4. Daily Return Calculation"
   ]
  },
  {
   "cell_type": "code",
   "execution_count": 19,
   "id": "fc82716f-ac82-4161-b89b-cec168727727",
   "metadata": {},
   "outputs": [],
   "source": [
    "# Percentage change in Close price\n",
    "apple_data[\"Daily_Return\"] = apple_data[\"Close\"].pct_change()"
   ]
  },
  {
   "cell_type": "code",
   "execution_count": 21,
   "id": "dec694c2-a775-4352-a464-8db55a26d209",
   "metadata": {},
   "outputs": [
    {
     "data": {
      "text/html": [
       "<div>\n",
       "<style scoped>\n",
       "    .dataframe tbody tr th:only-of-type {\n",
       "        vertical-align: middle;\n",
       "    }\n",
       "\n",
       "    .dataframe tbody tr th {\n",
       "        vertical-align: top;\n",
       "    }\n",
       "\n",
       "    .dataframe thead th {\n",
       "        text-align: right;\n",
       "    }\n",
       "</style>\n",
       "<table border=\"1\" class=\"dataframe\">\n",
       "  <thead>\n",
       "    <tr style=\"text-align: right;\">\n",
       "      <th></th>\n",
       "      <th>Open</th>\n",
       "      <th>High</th>\n",
       "      <th>Low</th>\n",
       "      <th>Close</th>\n",
       "      <th>Adj Close</th>\n",
       "      <th>Volume</th>\n",
       "      <th>MA_7</th>\n",
       "      <th>MA_30</th>\n",
       "      <th>MA_50</th>\n",
       "      <th>MA_100</th>\n",
       "      <th>Lag_1</th>\n",
       "      <th>Lag_7</th>\n",
       "      <th>Lag_30</th>\n",
       "      <th>Volatility_7</th>\n",
       "      <th>Volatility_30</th>\n",
       "      <th>Daily_Return</th>\n",
       "    </tr>\n",
       "    <tr>\n",
       "      <th>Date</th>\n",
       "      <th></th>\n",
       "      <th></th>\n",
       "      <th></th>\n",
       "      <th></th>\n",
       "      <th></th>\n",
       "      <th></th>\n",
       "      <th></th>\n",
       "      <th></th>\n",
       "      <th></th>\n",
       "      <th></th>\n",
       "      <th></th>\n",
       "      <th></th>\n",
       "      <th></th>\n",
       "      <th></th>\n",
       "      <th></th>\n",
       "      <th></th>\n",
       "    </tr>\n",
       "  </thead>\n",
       "  <tbody>\n",
       "    <tr>\n",
       "      <th>2012-01-03</th>\n",
       "      <td>58.485714</td>\n",
       "      <td>58.928570</td>\n",
       "      <td>58.428570</td>\n",
       "      <td>58.747143</td>\n",
       "      <td>50.765709</td>\n",
       "      <td>75555200</td>\n",
       "      <td>NaN</td>\n",
       "      <td>NaN</td>\n",
       "      <td>NaN</td>\n",
       "      <td>NaN</td>\n",
       "      <td>NaN</td>\n",
       "      <td>NaN</td>\n",
       "      <td>NaN</td>\n",
       "      <td>NaN</td>\n",
       "      <td>NaN</td>\n",
       "      <td>NaN</td>\n",
       "    </tr>\n",
       "    <tr>\n",
       "      <th>2012-01-04</th>\n",
       "      <td>58.571430</td>\n",
       "      <td>59.240002</td>\n",
       "      <td>58.468571</td>\n",
       "      <td>59.062859</td>\n",
       "      <td>51.038536</td>\n",
       "      <td>65005500</td>\n",
       "      <td>NaN</td>\n",
       "      <td>NaN</td>\n",
       "      <td>NaN</td>\n",
       "      <td>NaN</td>\n",
       "      <td>58.747143</td>\n",
       "      <td>NaN</td>\n",
       "      <td>NaN</td>\n",
       "      <td>NaN</td>\n",
       "      <td>NaN</td>\n",
       "      <td>0.005374</td>\n",
       "    </tr>\n",
       "    <tr>\n",
       "      <th>2012-01-05</th>\n",
       "      <td>59.278572</td>\n",
       "      <td>59.792858</td>\n",
       "      <td>58.952858</td>\n",
       "      <td>59.718571</td>\n",
       "      <td>51.605175</td>\n",
       "      <td>67817400</td>\n",
       "      <td>NaN</td>\n",
       "      <td>NaN</td>\n",
       "      <td>NaN</td>\n",
       "      <td>NaN</td>\n",
       "      <td>59.062859</td>\n",
       "      <td>NaN</td>\n",
       "      <td>NaN</td>\n",
       "      <td>NaN</td>\n",
       "      <td>NaN</td>\n",
       "      <td>0.011102</td>\n",
       "    </tr>\n",
       "    <tr>\n",
       "      <th>2012-01-06</th>\n",
       "      <td>59.967144</td>\n",
       "      <td>60.392857</td>\n",
       "      <td>59.888573</td>\n",
       "      <td>60.342857</td>\n",
       "      <td>52.144630</td>\n",
       "      <td>79573200</td>\n",
       "      <td>NaN</td>\n",
       "      <td>NaN</td>\n",
       "      <td>NaN</td>\n",
       "      <td>NaN</td>\n",
       "      <td>59.718571</td>\n",
       "      <td>NaN</td>\n",
       "      <td>NaN</td>\n",
       "      <td>NaN</td>\n",
       "      <td>NaN</td>\n",
       "      <td>0.010454</td>\n",
       "    </tr>\n",
       "    <tr>\n",
       "      <th>2012-01-09</th>\n",
       "      <td>60.785713</td>\n",
       "      <td>61.107143</td>\n",
       "      <td>60.192856</td>\n",
       "      <td>60.247143</td>\n",
       "      <td>52.061932</td>\n",
       "      <td>98506100</td>\n",
       "      <td>NaN</td>\n",
       "      <td>NaN</td>\n",
       "      <td>NaN</td>\n",
       "      <td>NaN</td>\n",
       "      <td>60.342857</td>\n",
       "      <td>NaN</td>\n",
       "      <td>NaN</td>\n",
       "      <td>NaN</td>\n",
       "      <td>NaN</td>\n",
       "      <td>-0.001586</td>\n",
       "    </tr>\n",
       "  </tbody>\n",
       "</table>\n",
       "</div>"
      ],
      "text/plain": [
       "                 Open       High        Low      Close  Adj Close    Volume  \\\n",
       "Date                                                                          \n",
       "2012-01-03  58.485714  58.928570  58.428570  58.747143  50.765709  75555200   \n",
       "2012-01-04  58.571430  59.240002  58.468571  59.062859  51.038536  65005500   \n",
       "2012-01-05  59.278572  59.792858  58.952858  59.718571  51.605175  67817400   \n",
       "2012-01-06  59.967144  60.392857  59.888573  60.342857  52.144630  79573200   \n",
       "2012-01-09  60.785713  61.107143  60.192856  60.247143  52.061932  98506100   \n",
       "\n",
       "            MA_7  MA_30  MA_50  MA_100      Lag_1  Lag_7  Lag_30  \\\n",
       "Date                                                               \n",
       "2012-01-03   NaN    NaN    NaN     NaN        NaN    NaN     NaN   \n",
       "2012-01-04   NaN    NaN    NaN     NaN  58.747143    NaN     NaN   \n",
       "2012-01-05   NaN    NaN    NaN     NaN  59.062859    NaN     NaN   \n",
       "2012-01-06   NaN    NaN    NaN     NaN  59.718571    NaN     NaN   \n",
       "2012-01-09   NaN    NaN    NaN     NaN  60.342857    NaN     NaN   \n",
       "\n",
       "            Volatility_7  Volatility_30  Daily_Return  \n",
       "Date                                                   \n",
       "2012-01-03           NaN            NaN           NaN  \n",
       "2012-01-04           NaN            NaN      0.005374  \n",
       "2012-01-05           NaN            NaN      0.011102  \n",
       "2012-01-06           NaN            NaN      0.010454  \n",
       "2012-01-09           NaN            NaN     -0.001586  "
      ]
     },
     "execution_count": 21,
     "metadata": {},
     "output_type": "execute_result"
    }
   ],
   "source": [
    "apple_data.head()"
   ]
  },
  {
   "cell_type": "code",
   "execution_count": 23,
   "id": "8440bd88-16db-494a-936f-0958669eb865",
   "metadata": {},
   "outputs": [
    {
     "data": {
      "text/html": [
       "<div>\n",
       "<style scoped>\n",
       "    .dataframe tbody tr th:only-of-type {\n",
       "        vertical-align: middle;\n",
       "    }\n",
       "\n",
       "    .dataframe tbody tr th {\n",
       "        vertical-align: top;\n",
       "    }\n",
       "\n",
       "    .dataframe thead th {\n",
       "        text-align: right;\n",
       "    }\n",
       "</style>\n",
       "<table border=\"1\" class=\"dataframe\">\n",
       "  <thead>\n",
       "    <tr style=\"text-align: right;\">\n",
       "      <th></th>\n",
       "      <th>Open</th>\n",
       "      <th>High</th>\n",
       "      <th>Low</th>\n",
       "      <th>Close</th>\n",
       "      <th>Adj Close</th>\n",
       "      <th>Volume</th>\n",
       "      <th>MA_7</th>\n",
       "      <th>MA_30</th>\n",
       "      <th>MA_50</th>\n",
       "      <th>MA_100</th>\n",
       "      <th>Lag_1</th>\n",
       "      <th>Lag_7</th>\n",
       "      <th>Lag_30</th>\n",
       "      <th>Volatility_7</th>\n",
       "      <th>Volatility_30</th>\n",
       "      <th>Daily_Return</th>\n",
       "    </tr>\n",
       "    <tr>\n",
       "      <th>Date</th>\n",
       "      <th></th>\n",
       "      <th></th>\n",
       "      <th></th>\n",
       "      <th></th>\n",
       "      <th></th>\n",
       "      <th></th>\n",
       "      <th></th>\n",
       "      <th></th>\n",
       "      <th></th>\n",
       "      <th></th>\n",
       "      <th></th>\n",
       "      <th></th>\n",
       "      <th></th>\n",
       "      <th></th>\n",
       "      <th></th>\n",
       "      <th></th>\n",
       "    </tr>\n",
       "  </thead>\n",
       "  <tbody>\n",
       "    <tr>\n",
       "      <th>2019-12-23</th>\n",
       "      <td>280.529999</td>\n",
       "      <td>284.250000</td>\n",
       "      <td>280.369995</td>\n",
       "      <td>284.000000</td>\n",
       "      <td>282.054138</td>\n",
       "      <td>24643000</td>\n",
       "      <td>279.802852</td>\n",
       "      <td>268.701334</td>\n",
       "      <td>259.6744</td>\n",
       "      <td>236.8043</td>\n",
       "      <td>279.440002</td>\n",
       "      <td>271.459991</td>\n",
       "      <td>260.140015</td>\n",
       "      <td>2.576166</td>\n",
       "      <td>6.938819</td>\n",
       "      <td>0.016318</td>\n",
       "    </tr>\n",
       "    <tr>\n",
       "      <th>2019-12-24</th>\n",
       "      <td>284.690002</td>\n",
       "      <td>284.890015</td>\n",
       "      <td>282.920013</td>\n",
       "      <td>284.269989</td>\n",
       "      <td>282.322266</td>\n",
       "      <td>12119700</td>\n",
       "      <td>281.105708</td>\n",
       "      <td>269.436999</td>\n",
       "      <td>260.6424</td>\n",
       "      <td>237.6068</td>\n",
       "      <td>284.000000</td>\n",
       "      <td>275.149994</td>\n",
       "      <td>262.200012</td>\n",
       "      <td>2.091410</td>\n",
       "      <td>7.381592</td>\n",
       "      <td>0.000951</td>\n",
       "    </tr>\n",
       "    <tr>\n",
       "      <th>2019-12-26</th>\n",
       "      <td>284.820007</td>\n",
       "      <td>289.980011</td>\n",
       "      <td>284.700012</td>\n",
       "      <td>289.910004</td>\n",
       "      <td>287.923645</td>\n",
       "      <td>23280300</td>\n",
       "      <td>282.541425</td>\n",
       "      <td>270.368667</td>\n",
       "      <td>261.7342</td>\n",
       "      <td>238.5725</td>\n",
       "      <td>284.269989</td>\n",
       "      <td>279.859985</td>\n",
       "      <td>261.959991</td>\n",
       "      <td>3.824892</td>\n",
       "      <td>8.131139</td>\n",
       "      <td>0.019840</td>\n",
       "    </tr>\n",
       "    <tr>\n",
       "      <th>2019-12-27</th>\n",
       "      <td>291.119995</td>\n",
       "      <td>293.970001</td>\n",
       "      <td>288.119995</td>\n",
       "      <td>289.799988</td>\n",
       "      <td>287.814392</td>\n",
       "      <td>36566500</td>\n",
       "      <td>283.882852</td>\n",
       "      <td>271.212999</td>\n",
       "      <td>262.8428</td>\n",
       "      <td>239.5005</td>\n",
       "      <td>289.910004</td>\n",
       "      <td>280.410004</td>\n",
       "      <td>264.470001</td>\n",
       "      <td>4.533700</td>\n",
       "      <td>8.786240</td>\n",
       "      <td>-0.000379</td>\n",
       "    </tr>\n",
       "    <tr>\n",
       "      <th>2019-12-30</th>\n",
       "      <td>289.459991</td>\n",
       "      <td>292.690002</td>\n",
       "      <td>285.220001</td>\n",
       "      <td>291.519989</td>\n",
       "      <td>289.522614</td>\n",
       "      <td>36028600</td>\n",
       "      <td>285.565709</td>\n",
       "      <td>272.175665</td>\n",
       "      <td>263.9676</td>\n",
       "      <td>240.4253</td>\n",
       "      <td>289.799988</td>\n",
       "      <td>279.739990</td>\n",
       "      <td>262.640015</td>\n",
       "      <td>4.910280</td>\n",
       "      <td>9.376821</td>\n",
       "      <td>0.005935</td>\n",
       "    </tr>\n",
       "  </tbody>\n",
       "</table>\n",
       "</div>"
      ],
      "text/plain": [
       "                  Open        High         Low       Close   Adj Close  \\\n",
       "Date                                                                     \n",
       "2019-12-23  280.529999  284.250000  280.369995  284.000000  282.054138   \n",
       "2019-12-24  284.690002  284.890015  282.920013  284.269989  282.322266   \n",
       "2019-12-26  284.820007  289.980011  284.700012  289.910004  287.923645   \n",
       "2019-12-27  291.119995  293.970001  288.119995  289.799988  287.814392   \n",
       "2019-12-30  289.459991  292.690002  285.220001  291.519989  289.522614   \n",
       "\n",
       "              Volume        MA_7       MA_30     MA_50    MA_100       Lag_1  \\\n",
       "Date                                                                           \n",
       "2019-12-23  24643000  279.802852  268.701334  259.6744  236.8043  279.440002   \n",
       "2019-12-24  12119700  281.105708  269.436999  260.6424  237.6068  284.000000   \n",
       "2019-12-26  23280300  282.541425  270.368667  261.7342  238.5725  284.269989   \n",
       "2019-12-27  36566500  283.882852  271.212999  262.8428  239.5005  289.910004   \n",
       "2019-12-30  36028600  285.565709  272.175665  263.9676  240.4253  289.799988   \n",
       "\n",
       "                 Lag_7      Lag_30  Volatility_7  Volatility_30  Daily_Return  \n",
       "Date                                                                           \n",
       "2019-12-23  271.459991  260.140015      2.576166       6.938819      0.016318  \n",
       "2019-12-24  275.149994  262.200012      2.091410       7.381592      0.000951  \n",
       "2019-12-26  279.859985  261.959991      3.824892       8.131139      0.019840  \n",
       "2019-12-27  280.410004  264.470001      4.533700       8.786240     -0.000379  \n",
       "2019-12-30  279.739990  262.640015      4.910280       9.376821      0.005935  "
      ]
     },
     "execution_count": 23,
     "metadata": {},
     "output_type": "execute_result"
    }
   ],
   "source": [
    "apple_data.tail()"
   ]
  },
  {
   "cell_type": "markdown",
   "id": "425a4252-f067-4e68-96c2-cb9b1d74ad06",
   "metadata": {},
   "source": [
    "# Checking for Stationarity - ADF Test"
   ]
  },
  {
   "cell_type": "code",
   "execution_count": 25,
   "id": "12864bbb-a8af-4227-85a0-2ac37abdbc53",
   "metadata": {},
   "outputs": [
    {
     "name": "stdout",
     "output_type": "stream",
     "text": [
      "ADF Statistic: 1.2193701254377989\n",
      "p-value: 0.9961170178032009\n",
      "Critical Values: {'1%': -3.433622218212895, '5%': -2.8629854902259004, '10%': -2.5675395171404802}\n"
     ]
    }
   ],
   "source": [
    "from statsmodels.tsa.stattools import adfuller\n",
    "\n",
    "adf_test = adfuller(apple_data['Close'].dropna())\n",
    "\n",
    "print(\"ADF Statistic:\", adf_test[0])\n",
    "print(\"p-value:\", adf_test[1])\n",
    "print(\"Critical Values:\", adf_test[4])"
   ]
  },
  {
   "cell_type": "code",
   "execution_count": 27,
   "id": "581540d2-6887-4ebf-afeb-ea685c35d8dd",
   "metadata": {},
   "outputs": [
    {
     "name": "stdout",
     "output_type": "stream",
     "text": [
      "Data is non-stationary. Apply differencing...\n"
     ]
    }
   ],
   "source": [
    "if adf_test[1] < 0.05:\n",
    "    print(\"Data is stationary. No need for differencing.\")\n",
    "else:\n",
    "    print(\"Data is non-stationary. Apply differencing...\")"
   ]
  },
  {
   "cell_type": "code",
   "execution_count": 29,
   "id": "ce52d1f2-4bc1-4cdd-aa89-dafc6c40a926",
   "metadata": {},
   "outputs": [],
   "source": [
    "apple_data[\"Close_Diff\"] = apple_data[\"Close\"].diff().dropna()"
   ]
  },
  {
   "cell_type": "code",
   "execution_count": 31,
   "id": "47c956d5-894c-4e05-8eb2-e58806adfa90",
   "metadata": {},
   "outputs": [
    {
     "name": "stdout",
     "output_type": "stream",
     "text": [
      "New ADF p-value: 1.7631231987211183e-25\n"
     ]
    }
   ],
   "source": [
    "adf_test_diff = adfuller(apple_data['Close_Diff'].dropna())\n",
    "print(\"New ADF p-value:\", adf_test_diff[1])"
   ]
  },
  {
   "cell_type": "markdown",
   "id": "689a9573-6cf2-4b94-a332-43770056f4ee",
   "metadata": {},
   "source": [
    "# Plotting the Differenced Series (Close_Diff)- to Check if the trend is removed visually"
   ]
  },
  {
   "cell_type": "code",
   "execution_count": 33,
   "id": "1d2ac1ab-6780-4d6e-a4d4-b4db7ed9e9ee",
   "metadata": {},
   "outputs": [
    {
     "data": {
      "image/png": "[encoded data removed]",
      "text/plain": [
       "<Figure size 1000x500 with 1 Axes>"
      ]
     },
     "metadata": {},
     "output_type": "display_data"
    }
   ],
   "source": [
    "import matplotlib.pyplot as plt\n",
    "\n",
    "plt.figure(figsize = (10, 5))\n",
    "plt.plot(apple_data['Close_Diff'], label = \"Differenced Close Price\")\n",
    "plt.legend()\n",
    "plt.title(\"Stationary Differenced Series\")\n",
    "plt.show()"
   ]
  },
  {
   "cell_type": "markdown",
   "id": "711a0dbc-f0b2-489a-bf96-ebd422dccbee",
   "metadata": {},
   "source": [
    "# Determining ARIMA Parameters using ACF & PACF"
   ]
  },
  {
   "cell_type": "code",
   "execution_count": 35,
   "id": "6da11c7d-4934-450a-babf-994ba76a390b",
   "metadata": {},
   "outputs": [],
   "source": [
    "from statsmodels.graphics.tsaplots import plot_acf, plot_pacf\n",
    "import matplotlib.pyplot as plt"
   ]
  },
  {
   "cell_type": "code",
   "execution_count": 37,
   "id": "fa2acd3d-552a-488d-a244-bbc7dddd3fd5",
   "metadata": {},
   "outputs": [
    {
     "data": {
      "image/png": "[encoded data removed]",
      "text/plain": [
       "<Figure size 640x480 with 1 Axes>"
      ]
     },
     "metadata": {},
     "output_type": "display_data"
    }
   ],
   "source": [
    "# Plotting ACF (To find q)\n",
    "plot_acf(apple_data['Close_Diff'].dropna(), lags=40)\n",
    "plt.show()"
   ]
  },
  {
   "cell_type": "code",
   "execution_count": 39,
   "id": "6071284e-d2d7-489a-84e1-116b430d4826",
   "metadata": {},
   "outputs": [
    {
     "data": {
      "image/png": "[encoded data removed]",
      "text/plain": [
       "<Figure size 640x480 with 1 Axes>"
      ]
     },
     "metadata": {},
     "output_type": "display_data"
    }
   ],
   "source": [
    "# Plotting PACF (To find p)\n",
    "plot_pacf(apple_data['Close_Diff'].dropna(), lags=40)\n",
    "plt.show()"
   ]
  },
  {
   "cell_type": "markdown",
   "id": "1144d853-2fac-46d5-aa05-d9f82a579123",
   "metadata": {},
   "source": [
    "# Train-Test Split (2012–2018 for Train, 2019 for Test)"
   ]
  },
  {
   "cell_type": "code",
   "execution_count": 41,
   "id": "334b223b-c55b-4728-b69f-c77e247d9e26",
   "metadata": {},
   "outputs": [
    {
     "data": {
      "text/plain": [
       "Timestamp('2012-01-03 00:00:00')"
      ]
     },
     "execution_count": 41,
     "metadata": {},
     "output_type": "execute_result"
    }
   ],
   "source": [
    "apple_data.index.min()"
   ]
  },
  {
   "cell_type": "code",
   "execution_count": 43,
   "id": "db101484-6ebf-46f5-ba9c-fd66072021a3",
   "metadata": {},
   "outputs": [
    {
     "data": {
      "text/plain": [
       "Timestamp('2019-12-30 00:00:00')"
      ]
     },
     "execution_count": 43,
     "metadata": {},
     "output_type": "execute_result"
    }
   ],
   "source": [
    "apple_data.index.max()"
   ]
  },
  {
   "cell_type": "code",
   "execution_count": 45,
   "id": "08004245-0bc6-4793-a9f3-160ed8e3e672",
   "metadata": {},
   "outputs": [
    {
     "data": {
      "text/html": [
       "<div>\n",
       "<style scoped>\n",
       "    .dataframe tbody tr th:only-of-type {\n",
       "        vertical-align: middle;\n",
       "    }\n",
       "\n",
       "    .dataframe tbody tr th {\n",
       "        vertical-align: top;\n",
       "    }\n",
       "\n",
       "    .dataframe thead th {\n",
       "        text-align: right;\n",
       "    }\n",
       "</style>\n",
       "<table border=\"1\" class=\"dataframe\">\n",
       "  <thead>\n",
       "    <tr style=\"text-align: right;\">\n",
       "      <th></th>\n",
       "      <th>Open</th>\n",
       "      <th>High</th>\n",
       "      <th>Low</th>\n",
       "      <th>Close</th>\n",
       "      <th>Adj Close</th>\n",
       "      <th>Volume</th>\n",
       "      <th>MA_7</th>\n",
       "      <th>MA_30</th>\n",
       "      <th>MA_50</th>\n",
       "      <th>MA_100</th>\n",
       "      <th>Lag_1</th>\n",
       "      <th>Lag_7</th>\n",
       "      <th>Lag_30</th>\n",
       "      <th>Volatility_7</th>\n",
       "      <th>Volatility_30</th>\n",
       "      <th>Daily_Return</th>\n",
       "      <th>Close_Diff</th>\n",
       "    </tr>\n",
       "    <tr>\n",
       "      <th>Date</th>\n",
       "      <th></th>\n",
       "      <th></th>\n",
       "      <th></th>\n",
       "      <th></th>\n",
       "      <th></th>\n",
       "      <th></th>\n",
       "      <th></th>\n",
       "      <th></th>\n",
       "      <th></th>\n",
       "      <th></th>\n",
       "      <th></th>\n",
       "      <th></th>\n",
       "      <th></th>\n",
       "      <th></th>\n",
       "      <th></th>\n",
       "      <th></th>\n",
       "      <th></th>\n",
       "    </tr>\n",
       "  </thead>\n",
       "  <tbody>\n",
       "    <tr>\n",
       "      <th>2012</th>\n",
       "      <td>250</td>\n",
       "      <td>250</td>\n",
       "      <td>250</td>\n",
       "      <td>250</td>\n",
       "      <td>250</td>\n",
       "      <td>250</td>\n",
       "      <td>244</td>\n",
       "      <td>221</td>\n",
       "      <td>201</td>\n",
       "      <td>151</td>\n",
       "      <td>249</td>\n",
       "      <td>243</td>\n",
       "      <td>220</td>\n",
       "      <td>244</td>\n",
       "      <td>221</td>\n",
       "      <td>249</td>\n",
       "      <td>249</td>\n",
       "    </tr>\n",
       "    <tr>\n",
       "      <th>2013</th>\n",
       "      <td>252</td>\n",
       "      <td>252</td>\n",
       "      <td>252</td>\n",
       "      <td>252</td>\n",
       "      <td>252</td>\n",
       "      <td>252</td>\n",
       "      <td>252</td>\n",
       "      <td>252</td>\n",
       "      <td>252</td>\n",
       "      <td>252</td>\n",
       "      <td>252</td>\n",
       "      <td>252</td>\n",
       "      <td>252</td>\n",
       "      <td>252</td>\n",
       "      <td>252</td>\n",
       "      <td>252</td>\n",
       "      <td>252</td>\n",
       "    </tr>\n",
       "    <tr>\n",
       "      <th>2014</th>\n",
       "      <td>252</td>\n",
       "      <td>252</td>\n",
       "      <td>252</td>\n",
       "      <td>252</td>\n",
       "      <td>252</td>\n",
       "      <td>252</td>\n",
       "      <td>252</td>\n",
       "      <td>252</td>\n",
       "      <td>252</td>\n",
       "      <td>252</td>\n",
       "      <td>252</td>\n",
       "      <td>252</td>\n",
       "      <td>252</td>\n",
       "      <td>252</td>\n",
       "      <td>252</td>\n",
       "      <td>252</td>\n",
       "      <td>252</td>\n",
       "    </tr>\n",
       "    <tr>\n",
       "      <th>2015</th>\n",
       "      <td>252</td>\n",
       "      <td>252</td>\n",
       "      <td>252</td>\n",
       "      <td>252</td>\n",
       "      <td>252</td>\n",
       "      <td>252</td>\n",
       "      <td>252</td>\n",
       "      <td>252</td>\n",
       "      <td>252</td>\n",
       "      <td>252</td>\n",
       "      <td>252</td>\n",
       "      <td>252</td>\n",
       "      <td>252</td>\n",
       "      <td>252</td>\n",
       "      <td>252</td>\n",
       "      <td>252</td>\n",
       "      <td>252</td>\n",
       "    </tr>\n",
       "    <tr>\n",
       "      <th>2016</th>\n",
       "      <td>252</td>\n",
       "      <td>252</td>\n",
       "      <td>252</td>\n",
       "      <td>252</td>\n",
       "      <td>252</td>\n",
       "      <td>252</td>\n",
       "      <td>252</td>\n",
       "      <td>252</td>\n",
       "      <td>252</td>\n",
       "      <td>252</td>\n",
       "      <td>252</td>\n",
       "      <td>252</td>\n",
       "      <td>252</td>\n",
       "      <td>252</td>\n",
       "      <td>252</td>\n",
       "      <td>252</td>\n",
       "      <td>252</td>\n",
       "    </tr>\n",
       "    <tr>\n",
       "      <th>2017</th>\n",
       "      <td>251</td>\n",
       "      <td>251</td>\n",
       "      <td>251</td>\n",
       "      <td>251</td>\n",
       "      <td>251</td>\n",
       "      <td>251</td>\n",
       "      <td>251</td>\n",
       "      <td>251</td>\n",
       "      <td>251</td>\n",
       "      <td>251</td>\n",
       "      <td>251</td>\n",
       "      <td>251</td>\n",
       "      <td>251</td>\n",
       "      <td>251</td>\n",
       "      <td>251</td>\n",
       "      <td>251</td>\n",
       "      <td>251</td>\n",
       "    </tr>\n",
       "    <tr>\n",
       "      <th>2018</th>\n",
       "      <td>251</td>\n",
       "      <td>251</td>\n",
       "      <td>251</td>\n",
       "      <td>251</td>\n",
       "      <td>251</td>\n",
       "      <td>251</td>\n",
       "      <td>251</td>\n",
       "      <td>251</td>\n",
       "      <td>251</td>\n",
       "      <td>251</td>\n",
       "      <td>251</td>\n",
       "      <td>251</td>\n",
       "      <td>251</td>\n",
       "      <td>251</td>\n",
       "      <td>251</td>\n",
       "      <td>251</td>\n",
       "      <td>251</td>\n",
       "    </tr>\n",
       "    <tr>\n",
       "      <th>2019</th>\n",
       "      <td>251</td>\n",
       "      <td>251</td>\n",
       "      <td>251</td>\n",
       "      <td>251</td>\n",
       "      <td>251</td>\n",
       "      <td>251</td>\n",
       "      <td>251</td>\n",
       "      <td>251</td>\n",
       "      <td>251</td>\n",
       "      <td>251</td>\n",
       "      <td>251</td>\n",
       "      <td>251</td>\n",
       "      <td>251</td>\n",
       "      <td>251</td>\n",
       "      <td>251</td>\n",
       "      <td>251</td>\n",
       "      <td>251</td>\n",
       "    </tr>\n",
       "  </tbody>\n",
       "</table>\n",
       "</div>"
      ],
      "text/plain": [
       "      Open  High  Low  Close  Adj Close  Volume  MA_7  MA_30  MA_50  MA_100  \\\n",
       "Date                                                                          \n",
       "2012   250   250  250    250        250     250   244    221    201     151   \n",
       "2013   252   252  252    252        252     252   252    252    252     252   \n",
       "2014   252   252  252    252        252     252   252    252    252     252   \n",
       "2015   252   252  252    252        252     252   252    252    252     252   \n",
       "2016   252   252  252    252        252     252   252    252    252     252   \n",
       "2017   251   251  251    251        251     251   251    251    251     251   \n",
       "2018   251   251  251    251        251     251   251    251    251     251   \n",
       "2019   251   251  251    251        251     251   251    251    251     251   \n",
       "\n",
       "      Lag_1  Lag_7  Lag_30  Volatility_7  Volatility_30  Daily_Return  \\\n",
       "Date                                                                    \n",
       "2012    249    243     220           244            221           249   \n",
       "2013    252    252     252           252            252           252   \n",
       "2014    252    252     252           252            252           252   \n",
       "2015    252    252     252           252            252           252   \n",
       "2016    252    252     252           252            252           252   \n",
       "2017    251    251     251           251            251           251   \n",
       "2018    251    251     251           251            251           251   \n",
       "2019    251    251     251           251            251           251   \n",
       "\n",
       "      Close_Diff  \n",
       "Date              \n",
       "2012         249  \n",
       "2013         252  \n",
       "2014         252  \n",
       "2015         252  \n",
       "2016         252  \n",
       "2017         251  \n",
       "2018         251  \n",
       "2019         251  "
      ]
     },
     "execution_count": 45,
     "metadata": {},
     "output_type": "execute_result"
    }
   ],
   "source": [
    "apple_data.groupby(apple_data.index.year).count()"
   ]
  },
  {
   "cell_type": "code",
   "execution_count": 47,
   "id": "52f0c2a9-be3f-4ad3-b4ca-6e538a600194",
   "metadata": {},
   "outputs": [
    {
     "data": {
      "text/html": [
       "<div>\n",
       "<style scoped>\n",
       "    .dataframe tbody tr th:only-of-type {\n",
       "        vertical-align: middle;\n",
       "    }\n",
       "\n",
       "    .dataframe tbody tr th {\n",
       "        vertical-align: top;\n",
       "    }\n",
       "\n",
       "    .dataframe thead th {\n",
       "        text-align: right;\n",
       "    }\n",
       "</style>\n",
       "<table border=\"1\" class=\"dataframe\">\n",
       "  <thead>\n",
       "    <tr style=\"text-align: right;\">\n",
       "      <th></th>\n",
       "      <th>Open</th>\n",
       "      <th>High</th>\n",
       "      <th>Low</th>\n",
       "      <th>Close</th>\n",
       "      <th>Adj Close</th>\n",
       "      <th>Volume</th>\n",
       "      <th>MA_7</th>\n",
       "      <th>MA_30</th>\n",
       "      <th>MA_50</th>\n",
       "      <th>MA_100</th>\n",
       "      <th>Lag_1</th>\n",
       "      <th>Lag_7</th>\n",
       "      <th>Lag_30</th>\n",
       "      <th>Volatility_7</th>\n",
       "      <th>Volatility_30</th>\n",
       "      <th>Daily_Return</th>\n",
       "      <th>Close_Diff</th>\n",
       "    </tr>\n",
       "    <tr>\n",
       "      <th>Date</th>\n",
       "      <th></th>\n",
       "      <th></th>\n",
       "      <th></th>\n",
       "      <th></th>\n",
       "      <th></th>\n",
       "      <th></th>\n",
       "      <th></th>\n",
       "      <th></th>\n",
       "      <th></th>\n",
       "      <th></th>\n",
       "      <th></th>\n",
       "      <th></th>\n",
       "      <th></th>\n",
       "      <th></th>\n",
       "      <th></th>\n",
       "      <th></th>\n",
       "      <th></th>\n",
       "    </tr>\n",
       "  </thead>\n",
       "  <tbody>\n",
       "    <tr>\n",
       "      <th>2012-01-03</th>\n",
       "      <td>58.485714</td>\n",
       "      <td>58.928570</td>\n",
       "      <td>58.428570</td>\n",
       "      <td>58.747143</td>\n",
       "      <td>50.765709</td>\n",
       "      <td>75555200</td>\n",
       "      <td>NaN</td>\n",
       "      <td>NaN</td>\n",
       "      <td>NaN</td>\n",
       "      <td>NaN</td>\n",
       "      <td>NaN</td>\n",
       "      <td>NaN</td>\n",
       "      <td>NaN</td>\n",
       "      <td>NaN</td>\n",
       "      <td>NaN</td>\n",
       "      <td>NaN</td>\n",
       "      <td>NaN</td>\n",
       "    </tr>\n",
       "    <tr>\n",
       "      <th>2012-01-04</th>\n",
       "      <td>58.571430</td>\n",
       "      <td>59.240002</td>\n",
       "      <td>58.468571</td>\n",
       "      <td>59.062859</td>\n",
       "      <td>51.038536</td>\n",
       "      <td>65005500</td>\n",
       "      <td>NaN</td>\n",
       "      <td>NaN</td>\n",
       "      <td>NaN</td>\n",
       "      <td>NaN</td>\n",
       "      <td>58.747143</td>\n",
       "      <td>NaN</td>\n",
       "      <td>NaN</td>\n",
       "      <td>NaN</td>\n",
       "      <td>NaN</td>\n",
       "      <td>0.005374</td>\n",
       "      <td>0.315716</td>\n",
       "    </tr>\n",
       "    <tr>\n",
       "      <th>2012-01-05</th>\n",
       "      <td>59.278572</td>\n",
       "      <td>59.792858</td>\n",
       "      <td>58.952858</td>\n",
       "      <td>59.718571</td>\n",
       "      <td>51.605175</td>\n",
       "      <td>67817400</td>\n",
       "      <td>NaN</td>\n",
       "      <td>NaN</td>\n",
       "      <td>NaN</td>\n",
       "      <td>NaN</td>\n",
       "      <td>59.062859</td>\n",
       "      <td>NaN</td>\n",
       "      <td>NaN</td>\n",
       "      <td>NaN</td>\n",
       "      <td>NaN</td>\n",
       "      <td>0.011102</td>\n",
       "      <td>0.655712</td>\n",
       "    </tr>\n",
       "    <tr>\n",
       "      <th>2012-01-06</th>\n",
       "      <td>59.967144</td>\n",
       "      <td>60.392857</td>\n",
       "      <td>59.888573</td>\n",
       "      <td>60.342857</td>\n",
       "      <td>52.144630</td>\n",
       "      <td>79573200</td>\n",
       "      <td>NaN</td>\n",
       "      <td>NaN</td>\n",
       "      <td>NaN</td>\n",
       "      <td>NaN</td>\n",
       "      <td>59.718571</td>\n",
       "      <td>NaN</td>\n",
       "      <td>NaN</td>\n",
       "      <td>NaN</td>\n",
       "      <td>NaN</td>\n",
       "      <td>0.010454</td>\n",
       "      <td>0.624286</td>\n",
       "    </tr>\n",
       "    <tr>\n",
       "      <th>2012-01-09</th>\n",
       "      <td>60.785713</td>\n",
       "      <td>61.107143</td>\n",
       "      <td>60.192856</td>\n",
       "      <td>60.247143</td>\n",
       "      <td>52.061932</td>\n",
       "      <td>98506100</td>\n",
       "      <td>NaN</td>\n",
       "      <td>NaN</td>\n",
       "      <td>NaN</td>\n",
       "      <td>NaN</td>\n",
       "      <td>60.342857</td>\n",
       "      <td>NaN</td>\n",
       "      <td>NaN</td>\n",
       "      <td>NaN</td>\n",
       "      <td>NaN</td>\n",
       "      <td>-0.001586</td>\n",
       "      <td>-0.095714</td>\n",
       "    </tr>\n",
       "  </tbody>\n",
       "</table>\n",
       "</div>"
      ],
      "text/plain": [
       "                 Open       High        Low      Close  Adj Close    Volume  \\\n",
       "Date                                                                          \n",
       "2012-01-03  58.485714  58.928570  58.428570  58.747143  50.765709  75555200   \n",
       "2012-01-04  58.571430  59.240002  58.468571  59.062859  51.038536  65005500   \n",
       "2012-01-05  59.278572  59.792858  58.952858  59.718571  51.605175  67817400   \n",
       "2012-01-06  59.967144  60.392857  59.888573  60.342857  52.144630  79573200   \n",
       "2012-01-09  60.785713  61.107143  60.192856  60.247143  52.061932  98506100   \n",
       "\n",
       "            MA_7  MA_30  MA_50  MA_100      Lag_1  Lag_7  Lag_30  \\\n",
       "Date                                                               \n",
       "2012-01-03   NaN    NaN    NaN     NaN        NaN    NaN     NaN   \n",
       "2012-01-04   NaN    NaN    NaN     NaN  58.747143    NaN     NaN   \n",
       "2012-01-05   NaN    NaN    NaN     NaN  59.062859    NaN     NaN   \n",
       "2012-01-06   NaN    NaN    NaN     NaN  59.718571    NaN     NaN   \n",
       "2012-01-09   NaN    NaN    NaN     NaN  60.342857    NaN     NaN   \n",
       "\n",
       "            Volatility_7  Volatility_30  Daily_Return  Close_Diff  \n",
       "Date                                                               \n",
       "2012-01-03           NaN            NaN           NaN         NaN  \n",
       "2012-01-04           NaN            NaN      0.005374    0.315716  \n",
       "2012-01-05           NaN            NaN      0.011102    0.655712  \n",
       "2012-01-06           NaN            NaN      0.010454    0.624286  \n",
       "2012-01-09           NaN            NaN     -0.001586   -0.095714  "
      ]
     },
     "execution_count": 47,
     "metadata": {},
     "output_type": "execute_result"
    }
   ],
   "source": [
    "apple_data.head()"
   ]
  },
  {
   "cell_type": "code",
   "execution_count": 49,
   "id": "f4b5a3c6-778b-42a1-b935-bc2f25b5ddd7",
   "metadata": {},
   "outputs": [],
   "source": [
    "from sklearn.model_selection import train_test_split"
   ]
  },
  {
   "cell_type": "code",
   "execution_count": 51,
   "id": "02222849-8454-47a1-8d78-084e057c2c88",
   "metadata": {},
   "outputs": [
    {
     "data": {
      "text/plain": [
       "(1760, 17)"
      ]
     },
     "execution_count": 51,
     "metadata": {},
     "output_type": "execute_result"
    }
   ],
   "source": [
    "train_data = apple_data[apple_data.index < \"2019-01-01\"]\n",
    "train_data.shape"
   ]
  },
  {
   "cell_type": "code",
   "execution_count": 53,
   "id": "da51005c-4cc7-4187-a052-5a4e138d4306",
   "metadata": {},
   "outputs": [
    {
     "data": {
      "text/plain": [
       "(251, 17)"
      ]
     },
     "execution_count": 53,
     "metadata": {},
     "output_type": "execute_result"
    }
   ],
   "source": [
    "test_data = apple_data[apple_data.index >= \"2019-01-01\"]\n",
    "test_data.shape"
   ]
  },
  {
   "cell_type": "markdown",
   "id": "5b813813-25e8-4ed1-a5b4-d4dc4bde91a8",
   "metadata": {},
   "source": [
    "# Model Building - Building a Time Series Model"
   ]
  },
  {
   "cell_type": "markdown",
   "id": "576a3efe-fb79-4baa-a859-3e58906dc7b3",
   "metadata": {},
   "source": [
    "# ARIMA Model - AutoRegressive Integrated Moving Average"
   ]
  },
  {
   "cell_type": "code",
   "execution_count": 59,
   "id": "3cb77877-74f0-4985-860b-11cc3320916a",
   "metadata": {},
   "outputs": [
    {
     "name": "stdout",
     "output_type": "stream",
     "text": [
      "Collecting pmdarima\n",
      "  Downloading pmdarima-2.0.4-cp311-cp311-win_amd64.whl.metadata (8.0 kB)\n",
      "Requirement already satisfied: joblib>=0.11 in c:\\users\\mulag\\anaconda3\\lib\\site-packages (from pmdarima) (1.2.0)\n",
      "Collecting Cython!=0.29.18,!=0.29.31,>=0.29 (from pmdarima)\n",
      "  Downloading Cython-3.0.11-cp311-cp311-win_amd64.whl.metadata (3.2 kB)\n",
      "Requirement already satisfied: numpy>=1.21.2 in c:\\users\\mulag\\anaconda3\\lib\\site-packages (from pmdarima) (1.24.4)\n",
      "Requirement already satisfied: pandas>=0.19 in c:\\users\\mulag\\anaconda3\\lib\\site-packages (from pmdarima) (1.5.3)\n",
      "Requirement already satisfied: scikit-learn>=0.22 in c:\\users\\mulag\\anaconda3\\lib\\site-packages (from pmdarima) (1.6.0)\n",
      "Requirement already satisfied: scipy>=1.3.2 in c:\\users\\mulag\\anaconda3\\lib\\site-packages (from pmdarima) (1.10.1)\n",
      "Requirement already satisfied: statsmodels>=0.13.2 in c:\\users\\mulag\\anaconda3\\lib\\site-packages (from pmdarima) (0.14.0)\n",
      "Requirement already satisfied: urllib3 in c:\\users\\mulag\\anaconda3\\lib\\site-packages (from pmdarima) (2.0.7)\n",
      "Requirement already satisfied: setuptools!=50.0.0,>=38.6.0 in c:\\users\\mulag\\anaconda3\\lib\\site-packages (from pmdarima) (68.2.2)\n",
      "Requirement already satisfied: packaging>=17.1 in c:\\users\\mulag\\appdata\\roaming\\python\\python311\\site-packages (from pmdarima) (23.1)\n",
      "Requirement already satisfied: python-dateutil>=2.8.1 in c:\\users\\mulag\\anaconda3\\lib\\site-packages (from pandas>=0.19->pmdarima) (2.8.2)\n",
      "Requirement already satisfied: pytz>=2020.1 in c:\\users\\mulag\\anaconda3\\lib\\site-packages (from pandas>=0.19->pmdarima) (2023.3.post1)\n",
      "Requirement already satisfied: threadpoolctl>=3.1.0 in c:\\users\\mulag\\anaconda3\\lib\\site-packages (from scikit-learn>=0.22->pmdarima) (3.5.0)\n",
      "Requirement already satisfied: patsy>=0.5.2 in c:\\users\\mulag\\anaconda3\\lib\\site-packages (from statsmodels>=0.13.2->pmdarima) (0.5.3)\n",
      "Requirement already satisfied: six in c:\\users\\mulag\\anaconda3\\lib\\site-packages (from patsy>=0.5.2->statsmodels>=0.13.2->pmdarima) (1.16.0)\n",
      "Downloading pmdarima-2.0.4-cp311-cp311-win_amd64.whl (614 kB)\n",
      "   ---------------------------------------- 0.0/614.7 kB ? eta -:--:--\n",
      "   - -------------------------------------- 30.7/614.7 kB 1.4 MB/s eta 0:00:01\n",
      "   - -------------------------------------- 30.7/614.7 kB 1.4 MB/s eta 0:00:01\n",
      "   ---- ---------------------------------- 71.7/614.7 kB 563.7 kB/s eta 0:00:01\n",
      "   ---- ---------------------------------- 71.7/614.7 kB 563.7 kB/s eta 0:00:01\n",
      "   ---------- --------------------------- 174.1/614.7 kB 751.6 kB/s eta 0:00:01\n",
      "   ---------- --------------------------- 174.1/614.7 kB 751.6 kB/s eta 0:00:01\n",
      "   ------------- ------------------------ 225.3/614.7 kB 689.2 kB/s eta 0:00:01\n",
      "   ------------- ------------------------ 225.3/614.7 kB 689.2 kB/s eta 0:00:01\n",
      "   -------------------- ----------------- 327.7/614.7 kB 754.0 kB/s eta 0:00:01\n",
      "   -------------------- ----------------- 337.9/614.7 kB 749.8 kB/s eta 0:00:01\n",
      "   ---------------------- --------------- 358.4/614.7 kB 676.0 kB/s eta 0:00:01\n",
      "   --------------------------- ---------- 440.3/614.7 kB 809.9 kB/s eta 0:00:01\n",
      "   -------------------------------- ----- 522.2/614.7 kB 863.4 kB/s eta 0:00:01\n",
      "   -------------------------------------  614.4/614.7 kB 966.7 kB/s eta 0:00:01\n",
      "   -------------------------------------- 614.7/614.7 kB 944.4 kB/s eta 0:00:00\n",
      "Downloading Cython-3.0.11-cp311-cp311-win_amd64.whl (2.8 MB)\n",
      "   ---------------------------------------- 0.0/2.8 MB ? eta -:--:--\n",
      "   -- ------------------------------------- 0.1/2.8 MB 2.8 MB/s eta 0:00:01\n",
      "   -- ------------------------------------- 0.2/2.8 MB 2.1 MB/s eta 0:00:02\n",
      "   -- ------------------------------------- 0.2/2.8 MB 2.0 MB/s eta 0:00:02\n",
      "   -- ------------------------------------- 0.2/2.8 MB 2.0 MB/s eta 0:00:02\n",
      "   --- ------------------------------------ 0.3/2.8 MB 1.4 MB/s eta 0:00:02\n",
      "   ---- ----------------------------------- 0.3/2.8 MB 1.2 MB/s eta 0:00:03\n",
      "   ----- ---------------------------------- 0.4/2.8 MB 1.2 MB/s eta 0:00:03\n",
      "   ------ --------------------------------- 0.5/2.8 MB 1.3 MB/s eta 0:00:02\n",
      "   ------- -------------------------------- 0.5/2.8 MB 1.3 MB/s eta 0:00:02\n",
      "   -------- ------------------------------- 0.6/2.8 MB 1.4 MB/s eta 0:00:02\n",
      "   ---------- ----------------------------- 0.7/2.8 MB 1.5 MB/s eta 0:00:02\n",
      "   ----------- ---------------------------- 0.8/2.8 MB 1.5 MB/s eta 0:00:02\n",
      "   ------------ --------------------------- 0.9/2.8 MB 1.5 MB/s eta 0:00:02\n",
      "   ------------- -------------------------- 1.0/2.8 MB 1.6 MB/s eta 0:00:02\n",
      "   -------------- ------------------------- 1.0/2.8 MB 1.6 MB/s eta 0:00:02\n",
      "   --------------- ------------------------ 1.0/2.8 MB 1.5 MB/s eta 0:00:02\n",
      "   --------------- ------------------------ 1.1/2.8 MB 1.5 MB/s eta 0:00:02\n",
      "   ---------------- ----------------------- 1.2/2.8 MB 1.5 MB/s eta 0:00:02\n",
      "   ------------------ --------------------- 1.3/2.8 MB 1.5 MB/s eta 0:00:02\n",
      "   ------------------- -------------------- 1.3/2.8 MB 1.5 MB/s eta 0:00:01\n",
      "   -------------------- ------------------- 1.4/2.8 MB 1.6 MB/s eta 0:00:01\n",
      "   ---------------------- ----------------- 1.5/2.8 MB 1.6 MB/s eta 0:00:01\n",
      "   ----------------------- ---------------- 1.6/2.8 MB 1.6 MB/s eta 0:00:01\n",
      "   ------------------------ --------------- 1.7/2.8 MB 1.6 MB/s eta 0:00:01\n",
      "   -------------------------- ------------- 1.8/2.8 MB 1.6 MB/s eta 0:00:01\n",
      "   -------------------------- ------------- 1.8/2.8 MB 1.7 MB/s eta 0:00:01\n",
      "   --------------------------- ------------ 1.9/2.8 MB 1.7 MB/s eta 0:00:01\n",
      "   ----------------------------- ---------- 2.0/2.8 MB 1.7 MB/s eta 0:00:01\n",
      "   ----------------------------- ---------- 2.0/2.8 MB 1.6 MB/s eta 0:00:01\n",
      "   ----------------------------- ---------- 2.1/2.8 MB 1.6 MB/s eta 0:00:01\n",
      "   ------------------------------ --------- 2.1/2.8 MB 1.6 MB/s eta 0:00:01\n",
      "   ------------------------------- -------- 2.2/2.8 MB 1.6 MB/s eta 0:00:01\n",
      "   -------------------------------- ------- 2.3/2.8 MB 1.6 MB/s eta 0:00:01\n",
      "   --------------------------------- ------ 2.4/2.8 MB 1.6 MB/s eta 0:00:01\n",
      "   ---------------------------------- ----- 2.4/2.8 MB 1.6 MB/s eta 0:00:01\n",
      "   ----------------------------------- ---- 2.5/2.8 MB 1.6 MB/s eta 0:00:01\n",
      "   ------------------------------------- -- 2.6/2.8 MB 1.6 MB/s eta 0:00:01\n",
      "   -------------------------------------- - 2.7/2.8 MB 1.6 MB/s eta 0:00:01\n",
      "   ---------------------------------------  2.8/2.8 MB 1.6 MB/s eta 0:00:01\n",
      "   ---------------------------------------  2.8/2.8 MB 1.6 MB/s eta 0:00:01\n",
      "   ---------------------------------------- 2.8/2.8 MB 1.6 MB/s eta 0:00:00\n",
      "Installing collected packages: Cython, pmdarima\n",
      "Successfully installed Cython-3.0.11 pmdarima-2.0.4\n"
     ]
    },
    {
     "name": "stderr",
     "output_type": "stream",
     "text": [
      "WARNING: Skipping C:\\Users\\mulag\\anaconda3\\Lib\\site-packages\\numpy-1.26.4.dist-info due to invalid metadata entry 'name'\n",
      "WARNING: Skipping C:\\Users\\mulag\\anaconda3\\Lib\\site-packages\\numpy-1.26.4.dist-info due to invalid metadata entry 'name'\n",
      "WARNING: Skipping C:\\Users\\mulag\\anaconda3\\Lib\\site-packages\\numpy-1.26.4.dist-info due to invalid metadata entry 'name'\n",
      "DEPRECATION: textract 1.6.5 has a non-standard dependency specifier extract-msg<=0.29.*. pip 24.0 will enforce this behaviour change. A possible replacement is to upgrade to a newer version of textract or contact the author to suggest that they release a version with a conforming dependency specifiers. Discussion can be found at https://github.com/pypa/pip/issues/12063\n",
      "WARNING: Skipping C:\\Users\\mulag\\anaconda3\\Lib\\site-packages\\numpy-1.26.4.dist-info due to invalid metadata entry 'name'\n",
      "WARNING: Skipping C:\\Users\\mulag\\anaconda3\\Lib\\site-packages\\numpy-1.26.4.dist-info due to invalid metadata entry 'name'\n",
      "WARNING: Skipping C:\\Users\\mulag\\anaconda3\\Lib\\site-packages\\numpy-1.26.4.dist-info due to invalid metadata entry 'name'\n",
      "WARNING: Skipping C:\\Users\\mulag\\anaconda3\\Lib\\site-packages\\numpy-1.26.4.dist-info due to invalid metadata entry 'name'\n"
     ]
    }
   ],
   "source": [
    "!pip install pmdarima"
   ]
  },
  {
   "cell_type": "code",
   "execution_count": 55,
   "id": "d511226b-68d4-4aa1-b082-e93cba2b2e4f",
   "metadata": {},
   "outputs": [
    {
     "name": "stderr",
     "output_type": "stream",
     "text": [
      "C:\\Users\\mulag\\anaconda3\\Lib\\site-packages\\sklearn\\utils\\deprecation.py:151: FutureWarning: 'force_all_finite' was renamed to 'ensure_all_finite' in 1.6 and will be removed in 1.8.\n",
      "  warnings.warn(\n",
      "C:\\Users\\mulag\\anaconda3\\Lib\\site-packages\\sklearn\\utils\\deprecation.py:151: FutureWarning: 'force_all_finite' was renamed to 'ensure_all_finite' in 1.6 and will be removed in 1.8.\n",
      "  warnings.warn(\n",
      "C:\\Users\\mulag\\anaconda3\\Lib\\site-packages\\sklearn\\utils\\deprecation.py:151: FutureWarning: 'force_all_finite' was renamed to 'ensure_all_finite' in 1.6 and will be removed in 1.8.\n",
      "  warnings.warn(\n",
      "C:\\Users\\mulag\\anaconda3\\Lib\\site-packages\\sklearn\\utils\\deprecation.py:151: FutureWarning: 'force_all_finite' was renamed to 'ensure_all_finite' in 1.6 and will be removed in 1.8.\n",
      "  warnings.warn(\n",
      "C:\\Users\\mulag\\anaconda3\\Lib\\site-packages\\sklearn\\utils\\deprecation.py:151: FutureWarning: 'force_all_finite' was renamed to 'ensure_all_finite' in 1.6 and will be removed in 1.8.\n",
      "  warnings.warn(\n",
      "C:\\Users\\mulag\\anaconda3\\Lib\\site-packages\\sklearn\\utils\\deprecation.py:151: FutureWarning: 'force_all_finite' was renamed to 'ensure_all_finite' in 1.6 and will be removed in 1.8.\n",
      "  warnings.warn(\n"
     ]
    },
    {
     "name": "stdout",
     "output_type": "stream",
     "text": [
      "Performing stepwise search to minimize aic\n",
      " ARIMA(2,0,2)(0,0,0)[0]             : AIC=7282.215, Time=0.45 sec\n",
      " ARIMA(0,0,0)(0,0,0)[0]             : AIC=7285.503, Time=0.02 sec\n",
      " ARIMA(1,0,0)(0,0,0)[0]             : AIC=7285.716, Time=0.03 sec\n",
      " ARIMA(0,0,1)(0,0,0)[0]             : AIC=7285.534, Time=0.03 sec\n",
      " ARIMA(1,0,2)(0,0,0)[0]             : AIC=7285.680, Time=0.13 sec\n"
     ]
    },
    {
     "name": "stderr",
     "output_type": "stream",
     "text": [
      "C:\\Users\\mulag\\anaconda3\\Lib\\site-packages\\sklearn\\utils\\deprecation.py:151: FutureWarning: 'force_all_finite' was renamed to 'ensure_all_finite' in 1.6 and will be removed in 1.8.\n",
      "  warnings.warn(\n",
      "C:\\Users\\mulag\\anaconda3\\Lib\\site-packages\\sklearn\\utils\\deprecation.py:151: FutureWarning: 'force_all_finite' was renamed to 'ensure_all_finite' in 1.6 and will be removed in 1.8.\n",
      "  warnings.warn(\n",
      "C:\\Users\\mulag\\anaconda3\\Lib\\site-packages\\sklearn\\utils\\deprecation.py:151: FutureWarning: 'force_all_finite' was renamed to 'ensure_all_finite' in 1.6 and will be removed in 1.8.\n",
      "  warnings.warn(\n",
      "C:\\Users\\mulag\\anaconda3\\Lib\\site-packages\\sklearn\\utils\\deprecation.py:151: FutureWarning: 'force_all_finite' was renamed to 'ensure_all_finite' in 1.6 and will be removed in 1.8.\n",
      "  warnings.warn(\n",
      "C:\\Users\\mulag\\anaconda3\\Lib\\site-packages\\sklearn\\utils\\deprecation.py:151: FutureWarning: 'force_all_finite' was renamed to 'ensure_all_finite' in 1.6 and will be removed in 1.8.\n",
      "  warnings.warn(\n"
     ]
    },
    {
     "name": "stdout",
     "output_type": "stream",
     "text": [
      " ARIMA(2,0,1)(0,0,0)[0]             : AIC=7285.295, Time=0.13 sec\n"
     ]
    },
    {
     "name": "stderr",
     "output_type": "stream",
     "text": [
      "C:\\Users\\mulag\\anaconda3\\Lib\\site-packages\\sklearn\\utils\\deprecation.py:151: FutureWarning: 'force_all_finite' was renamed to 'ensure_all_finite' in 1.6 and will be removed in 1.8.\n",
      "  warnings.warn(\n"
     ]
    },
    {
     "name": "stdout",
     "output_type": "stream",
     "text": [
      " ARIMA(3,0,2)(0,0,0)[0]             : AIC=7285.917, Time=0.44 sec\n"
     ]
    },
    {
     "name": "stderr",
     "output_type": "stream",
     "text": [
      "C:\\Users\\mulag\\anaconda3\\Lib\\site-packages\\sklearn\\utils\\deprecation.py:151: FutureWarning: 'force_all_finite' was renamed to 'ensure_all_finite' in 1.6 and will be removed in 1.8.\n",
      "  warnings.warn(\n"
     ]
    },
    {
     "name": "stdout",
     "output_type": "stream",
     "text": [
      " ARIMA(2,0,3)(0,0,0)[0]             : AIC=7281.365, Time=0.69 sec\n"
     ]
    },
    {
     "name": "stderr",
     "output_type": "stream",
     "text": [
      "C:\\Users\\mulag\\anaconda3\\Lib\\site-packages\\sklearn\\utils\\deprecation.py:151: FutureWarning: 'force_all_finite' was renamed to 'ensure_all_finite' in 1.6 and will be removed in 1.8.\n",
      "  warnings.warn(\n"
     ]
    },
    {
     "name": "stdout",
     "output_type": "stream",
     "text": [
      " ARIMA(1,0,3)(0,0,0)[0]             : AIC=7285.237, Time=0.29 sec\n"
     ]
    },
    {
     "name": "stderr",
     "output_type": "stream",
     "text": [
      "C:\\Users\\mulag\\anaconda3\\Lib\\site-packages\\sklearn\\utils\\deprecation.py:151: FutureWarning: 'force_all_finite' was renamed to 'ensure_all_finite' in 1.6 and will be removed in 1.8.\n",
      "  warnings.warn(\n"
     ]
    },
    {
     "name": "stdout",
     "output_type": "stream",
     "text": [
      " ARIMA(3,0,3)(0,0,0)[0]             : AIC=inf, Time=1.18 sec\n"
     ]
    },
    {
     "name": "stderr",
     "output_type": "stream",
     "text": [
      "C:\\Users\\mulag\\anaconda3\\Lib\\site-packages\\sklearn\\utils\\deprecation.py:151: FutureWarning: 'force_all_finite' was renamed to 'ensure_all_finite' in 1.6 and will be removed in 1.8.\n",
      "  warnings.warn(\n"
     ]
    },
    {
     "name": "stdout",
     "output_type": "stream",
     "text": [
      " ARIMA(2,0,4)(0,0,0)[0]             : AIC=7273.543, Time=0.77 sec\n"
     ]
    },
    {
     "name": "stderr",
     "output_type": "stream",
     "text": [
      "C:\\Users\\mulag\\anaconda3\\Lib\\site-packages\\sklearn\\utils\\deprecation.py:151: FutureWarning: 'force_all_finite' was renamed to 'ensure_all_finite' in 1.6 and will be removed in 1.8.\n",
      "  warnings.warn(\n"
     ]
    },
    {
     "name": "stdout",
     "output_type": "stream",
     "text": [
      " ARIMA(1,0,4)(0,0,0)[0]             : AIC=7285.727, Time=0.46 sec\n"
     ]
    },
    {
     "name": "stderr",
     "output_type": "stream",
     "text": [
      "C:\\Users\\mulag\\anaconda3\\Lib\\site-packages\\sklearn\\utils\\deprecation.py:151: FutureWarning: 'force_all_finite' was renamed to 'ensure_all_finite' in 1.6 and will be removed in 1.8.\n",
      "  warnings.warn(\n"
     ]
    },
    {
     "name": "stdout",
     "output_type": "stream",
     "text": [
      " ARIMA(3,0,4)(0,0,0)[0]             : AIC=inf, Time=1.42 sec\n"
     ]
    },
    {
     "name": "stderr",
     "output_type": "stream",
     "text": [
      "C:\\Users\\mulag\\anaconda3\\Lib\\site-packages\\sklearn\\utils\\deprecation.py:151: FutureWarning: 'force_all_finite' was renamed to 'ensure_all_finite' in 1.6 and will be removed in 1.8.\n",
      "  warnings.warn(\n"
     ]
    },
    {
     "name": "stdout",
     "output_type": "stream",
     "text": [
      " ARIMA(2,0,5)(0,0,0)[0]             : AIC=7275.112, Time=0.83 sec\n"
     ]
    },
    {
     "name": "stderr",
     "output_type": "stream",
     "text": [
      "C:\\Users\\mulag\\anaconda3\\Lib\\site-packages\\sklearn\\utils\\deprecation.py:151: FutureWarning: 'force_all_finite' was renamed to 'ensure_all_finite' in 1.6 and will be removed in 1.8.\n",
      "  warnings.warn(\n"
     ]
    },
    {
     "name": "stdout",
     "output_type": "stream",
     "text": [
      " ARIMA(1,0,5)(0,0,0)[0]             : AIC=7283.826, Time=0.34 sec\n"
     ]
    },
    {
     "name": "stderr",
     "output_type": "stream",
     "text": [
      "C:\\Users\\mulag\\anaconda3\\Lib\\site-packages\\sklearn\\utils\\deprecation.py:151: FutureWarning: 'force_all_finite' was renamed to 'ensure_all_finite' in 1.6 and will be removed in 1.8.\n",
      "  warnings.warn(\n"
     ]
    },
    {
     "name": "stdout",
     "output_type": "stream",
     "text": [
      " ARIMA(3,0,5)(0,0,0)[0]             : AIC=7274.028, Time=1.31 sec\n"
     ]
    },
    {
     "name": "stderr",
     "output_type": "stream",
     "text": [
      "C:\\Users\\mulag\\anaconda3\\Lib\\site-packages\\sklearn\\utils\\deprecation.py:151: FutureWarning: 'force_all_finite' was renamed to 'ensure_all_finite' in 1.6 and will be removed in 1.8.\n",
      "  warnings.warn(\n"
     ]
    },
    {
     "name": "stdout",
     "output_type": "stream",
     "text": [
      " ARIMA(2,0,4)(0,0,0)[0] intercept   : AIC=7273.905, Time=1.41 sec\n",
      "\n",
      "Best model:  ARIMA(2,0,4)(0,0,0)[0]          \n",
      "Total fit time: 9.919 seconds\n",
      "                               SARIMAX Results                                \n",
      "==============================================================================\n",
      "Dep. Variable:                      y   No. Observations:                 1759\n",
      "Model:               SARIMAX(2, 0, 4)   Log Likelihood               -3629.771\n",
      "Date:                Tue, 11 Feb 2025   AIC                           7273.543\n",
      "Time:                        12:04:45   BIC                           7311.850\n",
      "Sample:                             0   HQIC                          7287.700\n",
      "                               - 1759                                         \n",
      "Covariance Type:                  opg                                         \n",
      "==============================================================================\n",
      "                 coef    std err          z      P>|z|      [0.025      0.975]\n",
      "------------------------------------------------------------------------------\n",
      "ar.L1         -1.4355      0.028    -50.828      0.000      -1.491      -1.380\n",
      "ar.L2         -0.9129      0.027    -33.986      0.000      -0.966      -0.860\n",
      "ma.L1          1.4766      0.034     43.336      0.000       1.410       1.543\n",
      "ma.L2          0.9273      0.038     24.525      0.000       0.853       1.001\n",
      "ma.L3         -0.0683      0.029     -2.343      0.019      -0.125      -0.011\n",
      "ma.L4         -0.0785      0.017     -4.561      0.000      -0.112      -0.045\n",
      "sigma2         3.6295      0.065     55.550      0.000       3.501       3.758\n",
      "===================================================================================\n",
      "Ljung-Box (L1) (Q):                   0.01   Jarque-Bera (JB):              2790.43\n",
      "Prob(Q):                              0.94   Prob(JB):                         0.00\n",
      "Heteroskedasticity (H):               3.37   Skew:                            -0.37\n",
      "Prob(H) (two-sided):                  0.00   Kurtosis:                         9.13\n",
      "===================================================================================\n",
      "\n",
      "Warnings:\n",
      "[1] Covariance matrix calculated using the outer product of gradients (complex-step).\n"
     ]
    }
   ],
   "source": [
    "from pmdarima import auto_arima\n",
    "\n",
    "auto_model = auto_arima(train_data['Close_Diff'].dropna(), seasonal=False, trace=True)\n",
    "print(auto_model.summary())"
   ]
  },
  {
   "cell_type": "code",
   "execution_count": 57,
   "id": "aecac3ac-b8a8-420d-9c6b-a0cf4326cddc",
   "metadata": {},
   "outputs": [
    {
     "name": "stderr",
     "output_type": "stream",
     "text": [
      "C:\\Users\\mulag\\anaconda3\\Lib\\site-packages\\statsmodels\\tsa\\base\\tsa_model.py:473: ValueWarning: A date index has been provided, but it has no associated frequency information and so will be ignored when e.g. forecasting.\n",
      "  self._init_dates(dates, freq)\n",
      "C:\\Users\\mulag\\anaconda3\\Lib\\site-packages\\statsmodels\\tsa\\base\\tsa_model.py:473: ValueWarning: A date index has been provided, but it has no associated frequency information and so will be ignored when e.g. forecasting.\n",
      "  self._init_dates(dates, freq)\n",
      "C:\\Users\\mulag\\anaconda3\\Lib\\site-packages\\statsmodels\\tsa\\base\\tsa_model.py:473: ValueWarning: A date index has been provided, but it has no associated frequency information and so will be ignored when e.g. forecasting.\n",
      "  self._init_dates(dates, freq)\n"
     ]
    },
    {
     "data": {
      "text/html": [
       "<table class=\"simpletable\">\n",
       "<caption>SARIMAX Results</caption>\n",
       "<tr>\n",
       "  <th>Dep. Variable:</th>      <td>Close_Diff</td>    <th>  No. Observations:  </th>   <td>1760</td>   \n",
       "</tr>\n",
       "<tr>\n",
       "  <th>Model:</th>            <td>ARIMA(2, 0, 4)</td>  <th>  Log Likelihood     </th> <td>-3628.953</td>\n",
       "</tr>\n",
       "<tr>\n",
       "  <th>Date:</th>            <td>Tue, 11 Feb 2025</td> <th>  AIC                </th> <td>7273.905</td> \n",
       "</tr>\n",
       "<tr>\n",
       "  <th>Time:</th>                <td>12:04:55</td>     <th>  BIC                </th> <td>7317.690</td> \n",
       "</tr>\n",
       "<tr>\n",
       "  <th>Sample:</th>                  <td>0</td>        <th>  HQIC               </th> <td>7290.086</td> \n",
       "</tr>\n",
       "<tr>\n",
       "  <th></th>                      <td> - 1760</td>     <th>                     </th>     <td> </td>    \n",
       "</tr>\n",
       "<tr>\n",
       "  <th>Covariance Type:</th>        <td>opg</td>       <th>                     </th>     <td> </td>    \n",
       "</tr>\n",
       "</table>\n",
       "<table class=\"simpletable\">\n",
       "<tr>\n",
       "     <td></td>       <th>coef</th>     <th>std err</th>      <th>z</th>      <th>P>|z|</th>  <th>[0.025</th>    <th>0.975]</th>  \n",
       "</tr>\n",
       "<tr>\n",
       "  <th>const</th>  <td>    0.0565</td> <td>    0.046</td> <td>    1.236</td> <td> 0.217</td> <td>   -0.033</td> <td>    0.146</td>\n",
       "</tr>\n",
       "<tr>\n",
       "  <th>ar.L1</th>  <td>   -1.4351</td> <td>    0.028</td> <td>  -50.468</td> <td> 0.000</td> <td>   -1.491</td> <td>   -1.379</td>\n",
       "</tr>\n",
       "<tr>\n",
       "  <th>ar.L2</th>  <td>   -0.9120</td> <td>    0.027</td> <td>  -33.828</td> <td> 0.000</td> <td>   -0.965</td> <td>   -0.859</td>\n",
       "</tr>\n",
       "<tr>\n",
       "  <th>ma.L1</th>  <td>    1.4752</td> <td>    0.034</td> <td>   42.983</td> <td> 0.000</td> <td>    1.408</td> <td>    1.543</td>\n",
       "</tr>\n",
       "<tr>\n",
       "  <th>ma.L2</th>  <td>    0.9242</td> <td>    0.038</td> <td>   24.305</td> <td> 0.000</td> <td>    0.850</td> <td>    0.999</td>\n",
       "</tr>\n",
       "<tr>\n",
       "  <th>ma.L3</th>  <td>   -0.0708</td> <td>    0.029</td> <td>   -2.423</td> <td> 0.015</td> <td>   -0.128</td> <td>   -0.014</td>\n",
       "</tr>\n",
       "<tr>\n",
       "  <th>ma.L4</th>  <td>   -0.0796</td> <td>    0.017</td> <td>   -4.624</td> <td> 0.000</td> <td>   -0.113</td> <td>   -0.046</td>\n",
       "</tr>\n",
       "<tr>\n",
       "  <th>sigma2</th> <td>    3.6261</td> <td>    0.066</td> <td>   55.321</td> <td> 0.000</td> <td>    3.498</td> <td>    3.755</td>\n",
       "</tr>\n",
       "</table>\n",
       "<table class=\"simpletable\">\n",
       "<tr>\n",
       "  <th>Ljung-Box (L1) (Q):</th>     <td>0.00</td> <th>  Jarque-Bera (JB):  </th> <td>2790.35</td>\n",
       "</tr>\n",
       "<tr>\n",
       "  <th>Prob(Q):</th>                <td>0.97</td> <th>  Prob(JB):          </th>  <td>0.00</td>  \n",
       "</tr>\n",
       "<tr>\n",
       "  <th>Heteroskedasticity (H):</th> <td>3.37</td> <th>  Skew:              </th>  <td>-0.37</td> \n",
       "</tr>\n",
       "<tr>\n",
       "  <th>Prob(H) (two-sided):</th>    <td>0.00</td> <th>  Kurtosis:          </th>  <td>9.12</td>  \n",
       "</tr>\n",
       "</table><br/><br/>Warnings:<br/>[1] Covariance matrix calculated using the outer product of gradients (complex-step)."
      ],
      "text/latex": [
       "\\begin{center}\n",
       "\\begin{tabular}{lclc}\n",
       "\\toprule\n",
       "\\textbf{Dep. Variable:}          &   Close\\_Diff    & \\textbf{  No. Observations:  } &    1760     \\\\\n",
       "\\textbf{Model:}                  &  ARIMA(2, 0, 4)  & \\textbf{  Log Likelihood     } & -3628.953   \\\\\n",
       "\\textbf{Date:}                   & Tue, 11 Feb 2025 & \\textbf{  AIC                } &  7273.905   \\\\\n",
       "\\textbf{Time:}                   &     12:04:55     & \\textbf{  BIC                } &  7317.690   \\\\\n",
       "\\textbf{Sample:}                 &        0         & \\textbf{  HQIC               } &  7290.086   \\\\\n",
       "\\textbf{}                        &      - 1760      & \\textbf{                     } &             \\\\\n",
       "\\textbf{Covariance Type:}        &       opg        & \\textbf{                     } &             \\\\\n",
       "\\bottomrule\n",
       "\\end{tabular}\n",
       "\\begin{tabular}{lcccccc}\n",
       "                & \\textbf{coef} & \\textbf{std err} & \\textbf{z} & \\textbf{P$> |$z$|$} & \\textbf{[0.025} & \\textbf{0.975]}  \\\\\n",
       "\\midrule\n",
       "\\textbf{const}  &       0.0565  &        0.046     &     1.236  &         0.217        &       -0.033    &        0.146     \\\\\n",
       "\\textbf{ar.L1}  &      -1.4351  &        0.028     &   -50.468  &         0.000        &       -1.491    &       -1.379     \\\\\n",
       "\\textbf{ar.L2}  &      -0.9120  &        0.027     &   -33.828  &         0.000        &       -0.965    &       -0.859     \\\\\n",
       "\\textbf{ma.L1}  &       1.4752  &        0.034     &    42.983  &         0.000        &        1.408    &        1.543     \\\\\n",
       "\\textbf{ma.L2}  &       0.9242  &        0.038     &    24.305  &         0.000        &        0.850    &        0.999     \\\\\n",
       "\\textbf{ma.L3}  &      -0.0708  &        0.029     &    -2.423  &         0.015        &       -0.128    &       -0.014     \\\\\n",
       "\\textbf{ma.L4}  &      -0.0796  &        0.017     &    -4.624  &         0.000        &       -0.113    &       -0.046     \\\\\n",
       "\\textbf{sigma2} &       3.6261  &        0.066     &    55.321  &         0.000        &        3.498    &        3.755     \\\\\n",
       "\\bottomrule\n",
       "\\end{tabular}\n",
       "\\begin{tabular}{lclc}\n",
       "\\textbf{Ljung-Box (L1) (Q):}     & 0.00 & \\textbf{  Jarque-Bera (JB):  } & 2790.35  \\\\\n",
       "\\textbf{Prob(Q):}                & 0.97 & \\textbf{  Prob(JB):          } &   0.00   \\\\\n",
       "\\textbf{Heteroskedasticity (H):} & 3.37 & \\textbf{  Skew:              } &  -0.37   \\\\\n",
       "\\textbf{Prob(H) (two-sided):}    & 0.00 & \\textbf{  Kurtosis:          } &   9.12   \\\\\n",
       "\\bottomrule\n",
       "\\end{tabular}\n",
       "%\\caption{SARIMAX Results}\n",
       "\\end{center}\n",
       "\n",
       "Warnings: \\newline\n",
       " [1] Covariance matrix calculated using the outer product of gradients (complex-step)."
      ],
      "text/plain": [
       "<class 'statsmodels.iolib.summary.Summary'>\n",
       "\"\"\"\n",
       "                               SARIMAX Results                                \n",
       "==============================================================================\n",
       "Dep. Variable:             Close_Diff   No. Observations:                 1760\n",
       "Model:                 ARIMA(2, 0, 4)   Log Likelihood               -3628.953\n",
       "Date:                Tue, 11 Feb 2025   AIC                           7273.905\n",
       "Time:                        12:04:55   BIC                           7317.690\n",
       "Sample:                             0   HQIC                          7290.086\n",
       "                               - 1760                                         \n",
       "Covariance Type:                  opg                                         \n",
       "==============================================================================\n",
       "                 coef    std err          z      P>|z|      [0.025      0.975]\n",
       "------------------------------------------------------------------------------\n",
       "const          0.0565      0.046      1.236      0.217      -0.033       0.146\n",
       "ar.L1         -1.4351      0.028    -50.468      0.000      -1.491      -1.379\n",
       "ar.L2         -0.9120      0.027    -33.828      0.000      -0.965      -0.859\n",
       "ma.L1          1.4752      0.034     42.983      0.000       1.408       1.543\n",
       "ma.L2          0.9242      0.038     24.305      0.000       0.850       0.999\n",
       "ma.L3         -0.0708      0.029     -2.423      0.015      -0.128      -0.014\n",
       "ma.L4         -0.0796      0.017     -4.624      0.000      -0.113      -0.046\n",
       "sigma2         3.6261      0.066     55.321      0.000       3.498       3.755\n",
       "===================================================================================\n",
       "Ljung-Box (L1) (Q):                   0.00   Jarque-Bera (JB):              2790.35\n",
       "Prob(Q):                              0.97   Prob(JB):                         0.00\n",
       "Heteroskedasticity (H):               3.37   Skew:                            -0.37\n",
       "Prob(H) (two-sided):                  0.00   Kurtosis:                         9.12\n",
       "===================================================================================\n",
       "\n",
       "Warnings:\n",
       "[1] Covariance matrix calculated using the outer product of gradients (complex-step).\n",
       "\"\"\""
      ]
     },
     "execution_count": 57,
     "metadata": {},
     "output_type": "execute_result"
    }
   ],
   "source": [
    "from statsmodels.tsa.arima.model import ARIMA\n",
    "\n",
    "final_arima_model = ARIMA(train_data['Close_Diff'], order=(2, 0, 4))  \n",
    "final_arima_fit = final_arima_model.fit()\n",
    "\n",
    "final_arima_fit.summary()"
   ]
  },
  {
   "cell_type": "markdown",
   "id": "8b7b9c23-b465-4d2c-85db-00f8cd9e7f9c",
   "metadata": {},
   "source": [
    "# Forecast Future Prices"
   ]
  },
  {
   "cell_type": "markdown",
   "id": "0b0037b6-f29a-448b-adf0-be1cc900dd08",
   "metadata": {},
   "source": [
    "# Predict Future Differenced Values"
   ]
  },
  {
   "cell_type": "code",
   "execution_count": 59,
   "id": "6f633177-c79a-4239-a10f-2d86bd6558ae",
   "metadata": {},
   "outputs": [
    {
     "name": "stderr",
     "output_type": "stream",
     "text": [
      "C:\\Users\\mulag\\anaconda3\\Lib\\site-packages\\statsmodels\\tsa\\base\\tsa_model.py:836: ValueWarning: No supported index is available. Prediction results will be given with an integer index beginning at `start`.\n",
      "  return get_prediction_index(\n",
      "C:\\Users\\mulag\\anaconda3\\Lib\\site-packages\\statsmodels\\tsa\\base\\tsa_model.py:836: FutureWarning: No supported index is available. In the next version, calling this method in a model without a supported index will result in an exception.\n",
      "  return get_prediction_index(\n"
     ]
    },
    {
     "data": {
      "text/plain": [
       "1760    0.561007\n",
       "1761    0.242052\n",
       "1762   -0.826118\n",
       "1763    0.971377\n",
       "1764   -0.451567\n",
       "          ...   \n",
       "2006    0.056459\n",
       "2007    0.056482\n",
       "2008    0.056462\n",
       "2009    0.056469\n",
       "2010    0.056477\n",
       "Name: predicted_mean, Length: 251, dtype: float64"
      ]
     },
     "execution_count": 59,
     "metadata": {},
     "output_type": "execute_result"
    }
   ],
   "source": [
    "start_index = len(train_data)\n",
    "end_index = start_index + len(test_data) - 1\n",
    "\n",
    "forecast_diff = final_arima_fit.predict(start = start_index, end = end_index)\n",
    "forecast_diff"
   ]
  },
  {
   "cell_type": "markdown",
   "id": "3f4c5355-ac67-4844-a2cc-674df7aac4f8",
   "metadata": {},
   "source": [
    "# Convert Differenced Values Back to Actual Prices"
   ]
  },
  {
   "cell_type": "code",
   "execution_count": 61,
   "id": "0a8eeda2-9113-4c6c-b40f-7097c4d632dc",
   "metadata": {},
   "outputs": [
    {
     "data": {
      "text/plain": [
       "1760    158.301012\n",
       "1761    158.543064\n",
       "1762    157.716945\n",
       "1763    158.688323\n",
       "1764    158.236755\n",
       "           ...    \n",
       "2006    172.009409\n",
       "2007    172.065891\n",
       "2008    172.122353\n",
       "2009    172.178822\n",
       "2010    172.235300\n",
       "Name: predicted_mean, Length: 251, dtype: float64"
      ]
     },
     "execution_count": 61,
     "metadata": {},
     "output_type": "execute_result"
    }
   ],
   "source": [
    "forecast_actual = train_data['Close'].iloc[-1] + forecast_diff.cumsum()\n",
    "forecast_actual"
   ]
  },
  {
   "cell_type": "markdown",
   "id": "80ee287a-9b97-4281-9cdf-48bc2eccb831",
   "metadata": {},
   "source": [
    "# Plotting the Predicted vs. Actual Prices"
   ]
  },
  {
   "cell_type": "code",
   "execution_count": 130,
   "id": "78d1ddb2-0ca0-4be4-b088-9e9361ffcd7b",
   "metadata": {},
   "outputs": [],
   "source": [
    "#import matplotlib.pyplot as plt\n",
    "\n",
    "#plt.figure(figsize = (10,5))\n",
    "#plt.plot(test_data.index, test_data['Close'], label = \"Actual Prices\", color = \"blue\")\n",
    "#plt.plot(test_data.index, forecast_actual, label = \"Predicted Prices\", color = \"red\")\n",
    "#plt.legend()\n",
    "#plt.title(\"ARIMA Forecast vs Actual Apple Stock Prices\")\n",
    "#plt.show()"
   ]
  },
  {
   "cell_type": "code",
   "execution_count": 134,
   "id": "c2a23530-f694-498b-9208-36292dc2e5a8",
   "metadata": {},
   "outputs": [],
   "source": [
    "# from statsmodels.tsa.arima.model import ARIMA\n",
    "\n",
    "# Train ARIMA with differencing (d=1)\n",
    "#new_arima_model = ARIMA(train_data['Close'], order=(2,1,4))\n",
    "#new_arima_fit = new_arima_model.fit()\n",
    "\n",
    "#forecast_new = new_arima_fit.predict(start=len(train_data), end=len(train_data) + len(test_data) - 1, typ=\"levels\")\n",
    "\n",
    "#plt.figure(figsize = (10,5))\n",
    "#plt.plot(test_data.index, test_data['Close'], label = \"Actual Prices\", color = \"blue\")\n",
    "#plt.plot(test_data.index, forecast_new, label = \"Predicted Prices\", color = \"red\")\n",
    "#plt.legend()\n",
    "#plt.title(\"Improved ARIMA Forecast vs Actual Apple Stock Prices\")\n",
    "#plt.show()"
   ]
  },
  {
   "cell_type": "code",
   "execution_count": 63,
   "id": "6696e47b-d3e7-4728-b6c9-393a826d32c5",
   "metadata": {},
   "outputs": [
    {
     "data": {
      "image/png": "[encoded data removed]",
      "text/plain": [
       "<Figure size 1400x500 with 2 Axes>"
      ]
     },
     "metadata": {},
     "output_type": "display_data"
    }
   ],
   "source": [
    "import statsmodels.api as sm\n",
    "import matplotlib.pyplot as plt\n",
    "import seaborn as sns\n",
    "\n",
    "# Plot residuals\n",
    "residuals = final_arima_fit.resid  # Use the fitted ARIMA model's residuals\n",
    "fig, ax = plt.subplots(1, 2, figsize=(14, 5))\n",
    "\n",
    "# Histogram of residuals\n",
    "sns.histplot(residuals, bins=30, kde=True, ax=ax[0])\n",
    "ax[0].set_title('Residuals Histogram')\n",
    "\n",
    "# Q-Q Plot\n",
    "sm.qqplot(residuals, line='s', ax=ax[1])\n",
    "ax[1].set_title('Q-Q Plot of Residuals')\n",
    "\n",
    "plt.show()"
   ]
  },
  {
   "cell_type": "code",
   "execution_count": 124,
   "id": "ce57b895-14d8-44d3-8bc5-8d5ca41d5a19",
   "metadata": {},
   "outputs": [],
   "source": [
    "#from statsmodels.stats.diagnostic import acorr_ljungbox\n",
    "\n",
    "# Ljung-Box test to check residual autocorrelation\n",
    "#lb_test = acorr_ljungbox(residuals, lags=[10], return_df=True)\n",
    "#print(lb_test)"
   ]
  },
  {
   "cell_type": "code",
   "execution_count": 65,
   "id": "f6333182-2a5a-478f-b1a7-a262668494da",
   "metadata": {},
   "outputs": [
    {
     "name": "stderr",
     "output_type": "stream",
     "text": [
      "C:\\Users\\mulag\\anaconda3\\Lib\\site-packages\\statsmodels\\tsa\\base\\tsa_model.py:473: ValueWarning: A date index has been provided, but it has no associated frequency information and so will be ignored when e.g. forecasting.\n",
      "  self._init_dates(dates, freq)\n",
      "C:\\Users\\mulag\\anaconda3\\Lib\\site-packages\\statsmodels\\tsa\\base\\tsa_model.py:473: ValueWarning: A date index has been provided, but it has no associated frequency information and so will be ignored when e.g. forecasting.\n",
      "  self._init_dates(dates, freq)\n",
      "C:\\Users\\mulag\\anaconda3\\Lib\\site-packages\\statsmodels\\tsa\\base\\tsa_model.py:473: ValueWarning: A date index has been provided, but it has no associated frequency information and so will be ignored when e.g. forecasting.\n",
      "  self._init_dates(dates, freq)\n"
     ]
    }
   ],
   "source": [
    "import numpy as np\n",
    "import pandas as pd\n",
    "import matplotlib.pyplot as plt\n",
    "from statsmodels.tsa.arima.model import ARIMA\n",
    "from sklearn.metrics import mean_squared_error\n",
    "\n",
    "# Step 1: Train the ARIMA model again\n",
    "order = (2,0,4) \n",
    "model = ARIMA(train_data['Close'], order=order)\n",
    "arima_fit = model.fit()"
   ]
  },
  {
   "cell_type": "code",
   "execution_count": 67,
   "id": "611fa80f-999d-4aeb-b4bd-29cee8d4f51c",
   "metadata": {},
   "outputs": [
    {
     "name": "stderr",
     "output_type": "stream",
     "text": [
      "C:\\Users\\mulag\\anaconda3\\Lib\\site-packages\\statsmodels\\tsa\\base\\tsa_model.py:836: ValueWarning: No supported index is available. Prediction results will be given with an integer index beginning at `start`.\n",
      "  return get_prediction_index(\n",
      "C:\\Users\\mulag\\anaconda3\\Lib\\site-packages\\statsmodels\\tsa\\base\\tsa_model.py:836: FutureWarning: No supported index is available. In the next version, calling this method in a model without a supported index will result in an exception.\n",
      "  return get_prediction_index(\n"
     ]
    }
   ],
   "source": [
    "test_pred = arima_fit.forecast(steps=len(test_data)) "
   ]
  },
  {
   "cell_type": "code",
   "execution_count": 69,
   "id": "86317668-79f9-486a-aaae-bd76613453eb",
   "metadata": {},
   "outputs": [
    {
     "name": "stdout",
     "output_type": "stream",
     "text": [
      "RMSE: 63.41\n"
     ]
    }
   ],
   "source": [
    "rmse = np.sqrt(mean_squared_error(test_data['Close'], test_pred))\n",
    "print(f\"RMSE: {rmse:.2f}\")"
   ]
  },
  {
   "cell_type": "code",
   "execution_count": 71,
   "id": "eef8a648-c42d-4603-bc8d-a18ff9b42d91",
   "metadata": {},
   "outputs": [
    {
     "data": {
      "image/png": "[encoded data removed]",
      "text/plain": [
       "<Figure size 1200x600 with 1 Axes>"
      ]
     },
     "metadata": {},
     "output_type": "display_data"
    }
   ],
   "source": [
    "plt.figure(figsize=(12, 6))\n",
    "plt.plot(train_data.index, train_data['Close'], label=\"Train Data\", color='blue')\n",
    "plt.plot(test_data.index, test_data['Close'], label=\"Actual Test Data\", color='green')\n",
    "plt.plot(test_data.index, test_pred, label=\"ARIMA Predictions\", color='red', linestyle='dashed')\n",
    "plt.xlabel(\"Date\")\n",
    "plt.ylabel(\"Stock Price\")\n",
    "plt.title(\"ARIMA Model - Apple Stock Price Prediction\")\n",
    "plt.legend()\n",
    "plt.show()"
   ]
  },
  {
   "cell_type": "code",
   "execution_count": 73,
   "id": "9aacc7bb-1cfb-418f-b459-06b89b7af5b4",
   "metadata": {},
   "outputs": [
    {
     "name": "stderr",
     "output_type": "stream",
     "text": [
      "C:\\Users\\mulag\\anaconda3\\Lib\\site-packages\\statsmodels\\tsa\\base\\tsa_model.py:473: ValueWarning: A date index has been provided, but it has no associated frequency information and so will be ignored when e.g. forecasting.\n",
      "  self._init_dates(dates, freq)\n",
      "C:\\Users\\mulag\\anaconda3\\Lib\\site-packages\\statsmodels\\tsa\\base\\tsa_model.py:473: ValueWarning: A date index has been provided, but it has no associated frequency information and so will be ignored when e.g. forecasting.\n",
      "  self._init_dates(dates, freq)\n",
      "C:\\Users\\mulag\\anaconda3\\Lib\\site-packages\\statsmodels\\tsa\\base\\tsa_model.py:473: ValueWarning: A date index has been provided, but it has no associated frequency information and so will be ignored when e.g. forecasting.\n",
      "  self._init_dates(dates, freq)\n"
     ]
    },
    {
     "name": "stdout",
     "output_type": "stream",
     "text": [
      "RMSE: 52.56\n"
     ]
    },
    {
     "name": "stderr",
     "output_type": "stream",
     "text": [
      "C:\\Users\\mulag\\anaconda3\\Lib\\site-packages\\statsmodels\\tsa\\base\\tsa_model.py:836: ValueWarning: No supported index is available. Prediction results will be given with an integer index beginning at `start`.\n",
      "  return get_prediction_index(\n",
      "C:\\Users\\mulag\\anaconda3\\Lib\\site-packages\\statsmodels\\tsa\\base\\tsa_model.py:836: FutureWarning: No supported index is available. In the next version, calling this method in a model without a supported index will result in an exception.\n",
      "  return get_prediction_index(\n"
     ]
    }
   ],
   "source": [
    "order = (2,2,4) \n",
    "model = ARIMA(train_data['Close'], order=order)\n",
    "arima_fit = model.fit()\n",
    "test_pred = arima_fit.forecast(steps=len(test_data)) \n",
    "rmse = np.sqrt(mean_squared_error(test_data['Close'], test_pred))\n",
    "print(f\"RMSE: {rmse:.2f}\")"
   ]
  },
  {
   "cell_type": "code",
   "execution_count": 75,
   "id": "a2557b2a-9b53-47c3-80fe-958fccd0994a",
   "metadata": {},
   "outputs": [
    {
     "data": {
      "image/png": "[encoded data removed]",
      "text/plain": [
       "<Figure size 1200x600 with 1 Axes>"
      ]
     },
     "metadata": {},
     "output_type": "display_data"
    }
   ],
   "source": [
    "plt.figure(figsize=(12, 6))\n",
    "plt.plot(train_data.index, train_data['Close'], label=\"Train Data\", color='blue')\n",
    "plt.plot(test_data.index, test_data['Close'], label=\"Actual Test Data\", color='green')\n",
    "plt.plot(test_data.index, test_pred, label=\"ARIMA Predictions\", color='red', linestyle='dashed')\n",
    "plt.xlabel(\"Date\")\n",
    "plt.ylabel(\"Stock Price\")\n",
    "plt.title(\"ARIMA Model - Apple Stock Price Prediction\")\n",
    "plt.legend()\n",
    "plt.show()"
   ]
  },
  {
   "cell_type": "code",
   "execution_count": 77,
   "id": "f83078c1-47cd-4003-bb25-66b920bae4f9",
   "metadata": {},
   "outputs": [
    {
     "name": "stderr",
     "output_type": "stream",
     "text": [
      "C:\\Users\\mulag\\anaconda3\\Lib\\site-packages\\statsmodels\\tsa\\base\\tsa_model.py:836: ValueWarning: No supported index is available. Prediction results will be given with an integer index beginning at `start`.\n",
      "  return get_prediction_index(\n",
      "C:\\Users\\mulag\\anaconda3\\Lib\\site-packages\\statsmodels\\tsa\\base\\tsa_model.py:836: FutureWarning: No supported index is available. In the next version, calling this method in a model without a supported index will result in an exception.\n",
      "  return get_prediction_index(\n"
     ]
    },
    {
     "data": {
      "image/png": "[encoded data removed]",
      "text/plain": [
       "<Figure size 1200x600 with 1 Axes>"
      ]
     },
     "metadata": {},
     "output_type": "display_data"
    }
   ],
   "source": [
    "# Forecast for the next 30 days\n",
    "future_steps = 30\n",
    "future_pred = arima_fit.forecast(steps=future_steps)\n",
    "\n",
    "# Generate future dates\n",
    "future_dates = pd.date_range(start=test_data.index[-1], periods=future_steps + 1, freq='B')[1:]\n",
    "\n",
    "# Plot the next 30 days forecast\n",
    "plt.figure(figsize=(12, 6))\n",
    "plt.plot(train_data.index, train_data['Close'], label=\"Train Data\", color='blue')\n",
    "plt.plot(test_data.index, test_data['Close'], label=\"Actual Test Data\", color='green')\n",
    "plt.plot(test_data.index, test_pred, label=\"ARIMA Predictions\", color='red', linestyle='dashed')\n",
    "plt.plot(future_dates, future_pred, label=\"Next 30 Days Forecast\", color='purple', linestyle='dotted')\n",
    "\n",
    "plt.xlabel(\"Date\")\n",
    "plt.ylabel(\"Stock Price\")\n",
    "plt.title(\"ARIMA Model - Apple Stock Price Forecast (Next 30 Days)\")\n",
    "plt.legend()\n",
    "plt.show()"
   ]
  },
  {
   "cell_type": "markdown",
   "id": "b27a978d-c309-46a6-bb99-afbc94405bcc",
   "metadata": {},
   "source": [
    "# Forecasting for the Next 30 Days"
   ]
  },
  {
   "cell_type": "code",
   "execution_count": 79,
   "id": "0f33cb90-d7e5-4325-a1a5-72b3c0da9305",
   "metadata": {},
   "outputs": [
    {
     "name": "stdout",
     "output_type": "stream",
     "text": [
      "1760    158.223042\n",
      "1761    157.914697\n",
      "1762    158.058641\n",
      "1763    158.343207\n",
      "1764    158.021381\n",
      "1765    158.352422\n",
      "1766    158.407490\n",
      "1767    158.207130\n",
      "1768    158.596307\n",
      "1769    158.462158\n",
      "1770    158.452140\n",
      "1771    158.772517\n",
      "1772    158.548809\n",
      "1773    158.719259\n",
      "1774    158.890103\n",
      "1775    158.690588\n",
      "1776    158.970037\n",
      "1777    158.977109\n",
      "1778    158.887278\n",
      "1779    159.178441\n",
      "1780    159.067434\n",
      "1781    159.119434\n",
      "1782    159.337830\n",
      "1783    159.187916\n",
      "1784    159.358549\n",
      "1785    159.459913\n",
      "1786    159.350151\n",
      "1787    159.578633\n",
      "1788    159.567451\n",
      "1789    159.549068\n",
      "Name: predicted_mean, dtype: float64\n"
     ]
    }
   ],
   "source": [
    "print(future_pred)"
   ]
  },
  {
   "cell_type": "code",
   "execution_count": 81,
   "id": "452e0884-d49f-4a0c-9377-4b9e66339236",
   "metadata": {},
   "outputs": [
    {
     "name": "stdout",
     "output_type": "stream",
     "text": [
      "DatetimeIndex(['2019-12-31', '2020-01-01', '2020-01-02', '2020-01-03',\n",
      "               '2020-01-06', '2020-01-07', '2020-01-08', '2020-01-09',\n",
      "               '2020-01-10', '2020-01-13', '2020-01-14', '2020-01-15',\n",
      "               '2020-01-16', '2020-01-17', '2020-01-20', '2020-01-21',\n",
      "               '2020-01-22', '2020-01-23', '2020-01-24', '2020-01-27',\n",
      "               '2020-01-28', '2020-01-29', '2020-01-30', '2020-01-31',\n",
      "               '2020-02-03', '2020-02-04', '2020-02-05', '2020-02-06',\n",
      "               '2020-02-07', '2020-02-10'],\n",
      "              dtype='datetime64[ns]', freq='B')\n"
     ]
    }
   ],
   "source": [
    "future_steps = 30\n",
    "future_dates = pd.date_range(start=test_data.index[-1] + pd.Timedelta(days=1), periods=future_steps, freq='B')\n",
    "\n",
    "print(future_dates)  "
   ]
  },
  {
   "cell_type": "code",
   "execution_count": 83,
   "id": "334f104e-fe63-415c-b172-b92db548e012",
   "metadata": {},
   "outputs": [
    {
     "data": {
      "image/png": "[encoded data removed]",
      "text/plain": [
       "<Figure size 1200x600 with 1 Axes>"
      ]
     },
     "metadata": {},
     "output_type": "display_data"
    }
   ],
   "source": [
    "plt.figure(figsize=(12, 6))\n",
    "\n",
    "plt.plot(train_data.index, train_data['Close'], label=\"Train Data\", color='blue')\n",
    "plt.plot(test_data.index, test_data['Close'], label=\"Actual Test Data\", color='green')\n",
    "\n",
    "plt.plot(future_dates, future_pred, label=\"Next 30 Days Forecast\", color='purple', linestyle='dotted')\n",
    "plt.xlabel(\"Date\")\n",
    "plt.ylabel(\"Stock Price\")\n",
    "plt.title(\"ARIMA Model - Apple Stock Price Forecast (Next 30 Days)\")\n",
    "plt.legend()\n",
    "plt.grid(True)\n",
    "plt.show()"
   ]
  },
  {
   "cell_type": "code",
   "execution_count": 85,
   "id": "f81f1ccf-7a9f-4126-8244-08aabf263901",
   "metadata": {},
   "outputs": [
    {
     "name": "stdout",
     "output_type": "stream",
     "text": [
      "\n",
      "ARIMA Model Performance:\n",
      "RMSE: 52.5604\n",
      "MAE: 43.7461\n",
      "R² Score: -1.3738\n"
     ]
    }
   ],
   "source": [
    "from sklearn.metrics import mean_squared_error, mean_absolute_error, r2_score\n",
    "import numpy as np\n",
    "\n",
    "# Convert ARIMA predictions to numpy array\n",
    "y_pred_arima = np.array(test_pred)\n",
    "\n",
    "# Compute RMSE, MAE, and R2 Score for ARIMA\n",
    "rmse_arima = np.sqrt(mean_squared_error(test_data['Close'], y_pred_arima))\n",
    "mae_arima = mean_absolute_error(test_data['Close'], y_pred_arima)\n",
    "r2_arima = r2_score(test_data['Close'], y_pred_arima)\n",
    "\n",
    "print(f\"\\nARIMA Model Performance:\")\n",
    "print(f\"RMSE: {rmse_arima:.4f}\")\n",
    "print(f\"MAE: {mae_arima:.4f}\")\n",
    "print(f\"R² Score: {r2_arima:.4f}\")"
   ]
  },
  {
   "cell_type": "markdown",
   "id": "81233f04-7a51-4b0a-99d6-ac1061ce468f",
   "metadata": {},
   "source": [
    "Observations:\n",
    "1. Stock Price Trend (2012-2019):\n",
    "\n",
    "- The Apple stock price shows an overall upward trend with periodic fluctuations.\n",
    "- Significant growth is seen post-2016, with a steep increase in stock prices in 2019.\n",
    "\n",
    "2. Training vs. Test Data Performance:\n",
    "\n",
    "- Train Data (2012-2018, Blue) follows a stable growth pattern with minor dips.\n",
    "- Test Data (2019, Green) aligns well with the previous trend but shows increased volatility, indicating external factors (e.g., market conditions or company performance).\n",
    "\n",
    "3. Forecasted Prices (Next 30 Days - 2020, Purple Dotted Line):\n",
    "\n",
    "- The ARIMA model predicts a continuation of the increasing trend, but the forecast values appear slightly lower than expected."
   ]
  },
  {
   "cell_type": "markdown",
   "id": "3e2bc246-c14a-4f84-a1fd-e639cc1f2ca9",
   "metadata": {},
   "source": [
    "# LSTM (Long Short-Term Memory - 2"
   ]
  },
  {
   "cell_type": "code",
   "execution_count": 88,
   "id": "a51cf5f5-4c46-4285-afdc-5c547ce9f76d",
   "metadata": {},
   "outputs": [],
   "source": [
    "import numpy as np\n",
    "import pandas as pd\n",
    "from sklearn.preprocessing import MinMaxScaler"
   ]
  },
  {
   "cell_type": "code",
   "execution_count": 90,
   "id": "cac90abb-0af8-4da4-b1cc-80a1198ecfdd",
   "metadata": {},
   "outputs": [],
   "source": [
    "# Normalizing the 'Close' prices using MinMaxScaler\n",
    "scaler = MinMaxScaler(feature_range=(0,1))\n",
    "apple_data['Close_Scaled'] = scaler.fit_transform(apple_data[['Close']])"
   ]
  },
  {
   "cell_type": "code",
   "execution_count": 92,
   "id": "e5ad0ebc-cc2f-49b8-b7a3-af52aad9ae85",
   "metadata": {},
   "outputs": [],
   "source": [
    "# Splitting data into train and test sets\n",
    "train_size = int(len(apple_data) * 0.8)\n",
    "train_data, test_data = apple_data.iloc[:train_size], apple_data.iloc[train_size:]"
   ]
  },
  {
   "cell_type": "code",
   "execution_count": 94,
   "id": "c1b25b0b-91e6-49b2-8dfa-411fdfbe07cd",
   "metadata": {},
   "outputs": [],
   "source": [
    "def create_sequences(data, seq_length=60):\n",
    "    X, y = [], []\n",
    "    for i in range(len(data) - seq_length):\n",
    "        X.append(data[i:i+seq_length])\n",
    "        y.append(data[i+seq_length])\n",
    "    return np.array(X), np.array(y)"
   ]
  },
  {
   "cell_type": "code",
   "execution_count": 96,
   "id": "a15c5299-5ddd-47b3-995c-9b228d64e1fe",
   "metadata": {},
   "outputs": [],
   "source": [
    "# Use last 60 days to predict next day\n",
    "seq_length = 60  \n",
    "X_train, y_train = create_sequences(train_data['Close_Scaled'].values, seq_length)\n",
    "X_test, y_test = create_sequences(test_data['Close_Scaled'].values, seq_length)"
   ]
  },
  {
   "cell_type": "code",
   "execution_count": 98,
   "id": "0d598bf9-69e1-42c0-96ca-7903f45ff934",
   "metadata": {},
   "outputs": [],
   "source": [
    "# Reshaping data for LSTM input\n",
    "X_train = X_train.reshape((X_train.shape[0], X_train.shape[1], 1))\n",
    "X_test = X_test.reshape((X_test.shape[0], X_test.shape[1], 1))"
   ]
  },
  {
   "cell_type": "markdown",
   "id": "178c41f4-abd1-4398-8a90-0106a5e3e2ce",
   "metadata": {},
   "source": [
    "# Build & Train LSTM Model"
   ]
  },
  {
   "cell_type": "code",
   "execution_count": 101,
   "id": "0564488d-603a-4b2a-95c5-a51de9c81c09",
   "metadata": {},
   "outputs": [],
   "source": [
    "import tensorflow as tf\n",
    "from tensorflow.keras.models import Sequential\n",
    "from tensorflow.keras.layers import LSTM, Dense"
   ]
  },
  {
   "cell_type": "code",
   "execution_count": 103,
   "id": "3b565188-88c2-4516-8950-776d9b55115e",
   "metadata": {},
   "outputs": [
    {
     "name": "stderr",
     "output_type": "stream",
     "text": [
      "C:\\Users\\mulag\\anaconda3\\Lib\\site-packages\\keras\\src\\layers\\rnn\\rnn.py:204: UserWarning: Do not pass an `input_shape`/`input_dim` argument to a layer. When using Sequential models, prefer using an `Input(shape)` object as the first layer in the model instead.\n",
      "  super().__init__(**kwargs)\n"
     ]
    }
   ],
   "source": [
    "model = Sequential([\n",
    "    LSTM(units=50, return_sequences=True, input_shape=(seq_length, 1)),\n",
    "    LSTM(units=50),\n",
    "    Dense(units=25),\n",
    "    Dense(units=1)\n",
    "])"
   ]
  },
  {
   "cell_type": "code",
   "execution_count": 107,
   "id": "f04b4713-7d7c-45e2-8d1f-8bb4d14ec54d",
   "metadata": {},
   "outputs": [],
   "source": [
    "# Compiling the model\n",
    "model.compile(optimizer='adam', loss='mean_squared_error')"
   ]
  },
  {
   "cell_type": "code",
   "execution_count": 109,
   "id": "84bfb170-69c7-4750-a2e1-9d74ce50e8b6",
   "metadata": {},
   "outputs": [
    {
     "name": "stdout",
     "output_type": "stream",
     "text": [
      "Epoch 1/20\n",
      "\u001b[1m49/49\u001b[0m \u001b[32m━━━━━━━━━━━━━━━━━━━━\u001b[0m\u001b[37m\u001b[0m \u001b[1m6s\u001b[0m 40ms/step - loss: 0.0184 - val_loss: 0.0024\n",
      "Epoch 2/20\n",
      "\u001b[1m49/49\u001b[0m \u001b[32m━━━━━━━━━━━━━━━━━━━━\u001b[0m\u001b[37m\u001b[0m \u001b[1m2s\u001b[0m 34ms/step - loss: 3.4500e-04 - val_loss: 0.0016\n",
      "Epoch 3/20\n",
      "\u001b[1m49/49\u001b[0m \u001b[32m━━━━━━━━━━━━━━━━━━━━\u001b[0m\u001b[37m\u001b[0m \u001b[1m2s\u001b[0m 33ms/step - loss: 2.9226e-04 - val_loss: 0.0013\n",
      "Epoch 4/20\n",
      "\u001b[1m49/49\u001b[0m \u001b[32m━━━━━━━━━━━━━━━━━━━━\u001b[0m\u001b[37m\u001b[0m \u001b[1m2s\u001b[0m 33ms/step - loss: 2.4757e-04 - val_loss: 0.0015\n",
      "Epoch 5/20\n",
      "\u001b[1m49/49\u001b[0m \u001b[32m━━━━━━━━━━━━━━━━━━━━\u001b[0m\u001b[37m\u001b[0m \u001b[1m2s\u001b[0m 30ms/step - loss: 2.7762e-04 - val_loss: 0.0013\n",
      "Epoch 6/20\n",
      "\u001b[1m49/49\u001b[0m \u001b[32m━━━━━━━━━━━━━━━━━━━━\u001b[0m\u001b[37m\u001b[0m \u001b[1m3s\u001b[0m 31ms/step - loss: 2.4551e-04 - val_loss: 0.0023\n",
      "Epoch 7/20\n",
      "\u001b[1m49/49\u001b[0m \u001b[32m━━━━━━━━━━━━━━━━━━━━\u001b[0m\u001b[37m\u001b[0m \u001b[1m2s\u001b[0m 34ms/step - loss: 2.6471e-04 - val_loss: 0.0011\n",
      "Epoch 8/20\n",
      "\u001b[1m49/49\u001b[0m \u001b[32m━━━━━━━━━━━━━━━━━━━━\u001b[0m\u001b[37m\u001b[0m \u001b[1m2s\u001b[0m 33ms/step - loss: 2.3551e-04 - val_loss: 0.0010\n",
      "Epoch 9/20\n",
      "\u001b[1m49/49\u001b[0m \u001b[32m━━━━━━━━━━━━━━━━━━━━\u001b[0m\u001b[37m\u001b[0m \u001b[1m3s\u001b[0m 36ms/step - loss: 2.4567e-04 - val_loss: 0.0010\n",
      "Epoch 10/20\n",
      "\u001b[1m49/49\u001b[0m \u001b[32m━━━━━━━━━━━━━━━━━━━━\u001b[0m\u001b[37m\u001b[0m \u001b[1m2s\u001b[0m 35ms/step - loss: 2.6703e-04 - val_loss: 9.3900e-04\n",
      "Epoch 11/20\n",
      "\u001b[1m49/49\u001b[0m \u001b[32m━━━━━━━━━━━━━━━━━━━━\u001b[0m\u001b[37m\u001b[0m \u001b[1m2s\u001b[0m 37ms/step - loss: 2.4419e-04 - val_loss: 8.5496e-04\n",
      "Epoch 12/20\n",
      "\u001b[1m49/49\u001b[0m \u001b[32m━━━━━━━━━━━━━━━━━━━━\u001b[0m\u001b[37m\u001b[0m \u001b[1m2s\u001b[0m 42ms/step - loss: 2.0553e-04 - val_loss: 8.2162e-04\n",
      "Epoch 13/20\n",
      "\u001b[1m49/49\u001b[0m \u001b[32m━━━━━━━━━━━━━━━━━━━━\u001b[0m\u001b[37m\u001b[0m \u001b[1m2s\u001b[0m 38ms/step - loss: 1.8573e-04 - val_loss: 9.6287e-04\n",
      "Epoch 14/20\n",
      "\u001b[1m49/49\u001b[0m \u001b[32m━━━━━━━━━━━━━━━━━━━━\u001b[0m\u001b[37m\u001b[0m \u001b[1m2s\u001b[0m 41ms/step - loss: 2.1192e-04 - val_loss: 9.0055e-04\n",
      "Epoch 15/20\n",
      "\u001b[1m49/49\u001b[0m \u001b[32m━━━━━━━━━━━━━━━━━━━━\u001b[0m\u001b[37m\u001b[0m \u001b[1m2s\u001b[0m 46ms/step - loss: 1.8546e-04 - val_loss: 6.8177e-04\n",
      "Epoch 16/20\n",
      "\u001b[1m49/49\u001b[0m \u001b[32m━━━━━━━━━━━━━━━━━━━━\u001b[0m\u001b[37m\u001b[0m \u001b[1m2s\u001b[0m 40ms/step - loss: 1.9415e-04 - val_loss: 7.1608e-04\n",
      "Epoch 17/20\n",
      "\u001b[1m49/49\u001b[0m \u001b[32m━━━━━━━━━━━━━━━━━━━━\u001b[0m\u001b[37m\u001b[0m \u001b[1m2s\u001b[0m 42ms/step - loss: 2.0378e-04 - val_loss: 6.5782e-04\n",
      "Epoch 18/20\n",
      "\u001b[1m49/49\u001b[0m \u001b[32m━━━━━━━━━━━━━━━━━━━━\u001b[0m\u001b[37m\u001b[0m \u001b[1m2s\u001b[0m 44ms/step - loss: 2.0710e-04 - val_loss: 8.9307e-04\n",
      "Epoch 19/20\n",
      "\u001b[1m49/49\u001b[0m \u001b[32m━━━━━━━━━━━━━━━━━━━━\u001b[0m\u001b[37m\u001b[0m \u001b[1m2s\u001b[0m 37ms/step - loss: 1.8494e-04 - val_loss: 6.1557e-04\n",
      "Epoch 20/20\n",
      "\u001b[1m49/49\u001b[0m \u001b[32m━━━━━━━━━━━━━━━━━━━━\u001b[0m\u001b[37m\u001b[0m \u001b[1m2s\u001b[0m 38ms/step - loss: 1.8113e-04 - val_loss: 7.2263e-04\n"
     ]
    },
    {
     "data": {
      "text/plain": [
       "<keras.src.callbacks.history.History at 0x24291d9b510>"
      ]
     },
     "execution_count": 109,
     "metadata": {},
     "output_type": "execute_result"
    }
   ],
   "source": [
    "# Training the model\n",
    "model.fit(X_train, y_train, epochs=20, batch_size=32, validation_data=(X_test, y_test))"
   ]
  },
  {
   "cell_type": "markdown",
   "id": "c6e84b8f-25ac-4433-aebd-9ee3f6059ac8",
   "metadata": {},
   "source": [
    "# Evaluate LSTM Performance"
   ]
  },
  {
   "cell_type": "code",
   "execution_count": 113,
   "id": "2216664a-f007-4ab2-997b-4a71074bfcce",
   "metadata": {},
   "outputs": [
    {
     "name": "stdout",
     "output_type": "stream",
     "text": [
      "\u001b[1m11/11\u001b[0m \u001b[32m━━━━━━━━━━━━━━━━━━━━\u001b[0m\u001b[37m\u001b[0m \u001b[1m1s\u001b[0m 58ms/step\n",
      "LSTM RMSE: 6.34\n"
     ]
    }
   ],
   "source": [
    "from sklearn.metrics import mean_squared_error\n",
    "\n",
    "lstm_pred_scaled = model.predict(X_test)\n",
    "lstm_pred = scaler.inverse_transform(lstm_pred_scaled)\n",
    "\n",
    "lstm_rmse = np.sqrt(mean_squared_error(test_data['Close'][seq_length:], lstm_pred))\n",
    "print(f\"LSTM RMSE: {lstm_rmse:.2f}\")"
   ]
  },
  {
   "cell_type": "markdown",
   "id": "f3f8b1d2-8b23-4814-920a-f27cb183449c",
   "metadata": {},
   "source": [
    "# Forecast Next 30 Days"
   ]
  },
  {
   "cell_type": "code",
   "execution_count": 115,
   "id": "221c2f90-78f5-4328-a6fc-86df4a2db348",
   "metadata": {},
   "outputs": [],
   "source": [
    "# Forecasting the next 30 days using LSTM\n",
    "future_inputs = test_data['Close_Scaled'].values[-seq_length:].reshape(1, seq_length, 1)\n",
    "future_pred_lstm = []"
   ]
  },
  {
   "cell_type": "code",
   "execution_count": 119,
   "id": "b4238131-3e10-4419-ab1c-dc85534e76a8",
   "metadata": {},
   "outputs": [
    {
     "name": "stdout",
     "output_type": "stream",
     "text": [
      "\u001b[1m1/1\u001b[0m \u001b[32m━━━━━━━━━━━━━━━━━━━━\u001b[0m\u001b[37m\u001b[0m \u001b[1m0s\u001b[0m 29ms/step\n",
      "\u001b[1m1/1\u001b[0m \u001b[32m━━━━━━━━━━━━━━━━━━━━\u001b[0m\u001b[37m\u001b[0m \u001b[1m0s\u001b[0m 23ms/step\n",
      "\u001b[1m1/1\u001b[0m \u001b[32m━━━━━━━━━━━━━━━━━━━━\u001b[0m\u001b[37m\u001b[0m \u001b[1m0s\u001b[0m 22ms/step\n",
      "\u001b[1m1/1\u001b[0m \u001b[32m━━━━━━━━━━━━━━━━━━━━\u001b[0m\u001b[37m\u001b[0m \u001b[1m0s\u001b[0m 25ms/step\n",
      "\u001b[1m1/1\u001b[0m \u001b[32m━━━━━━━━━━━━━━━━━━━━\u001b[0m\u001b[37m\u001b[0m \u001b[1m0s\u001b[0m 24ms/step\n",
      "\u001b[1m1/1\u001b[0m \u001b[32m━━━━━━━━━━━━━━━━━━━━\u001b[0m\u001b[37m\u001b[0m \u001b[1m0s\u001b[0m 25ms/step\n",
      "\u001b[1m1/1\u001b[0m \u001b[32m━━━━━━━━━━━━━━━━━━━━\u001b[0m\u001b[37m\u001b[0m \u001b[1m0s\u001b[0m 27ms/step\n",
      "\u001b[1m1/1\u001b[0m \u001b[32m━━━━━━━━━━━━━━━━━━━━\u001b[0m\u001b[37m\u001b[0m \u001b[1m0s\u001b[0m 26ms/step\n",
      "\u001b[1m1/1\u001b[0m \u001b[32m━━━━━━━━━━━━━━━━━━━━\u001b[0m\u001b[37m\u001b[0m \u001b[1m0s\u001b[0m 26ms/step\n",
      "\u001b[1m1/1\u001b[0m \u001b[32m━━━━━━━━━━━━━━━━━━━━\u001b[0m\u001b[37m\u001b[0m \u001b[1m0s\u001b[0m 25ms/step\n",
      "\u001b[1m1/1\u001b[0m \u001b[32m━━━━━━━━━━━━━━━━━━━━\u001b[0m\u001b[37m\u001b[0m \u001b[1m0s\u001b[0m 27ms/step\n",
      "\u001b[1m1/1\u001b[0m \u001b[32m━━━━━━━━━━━━━━━━━━━━\u001b[0m\u001b[37m\u001b[0m \u001b[1m0s\u001b[0m 31ms/step\n",
      "\u001b[1m1/1\u001b[0m \u001b[32m━━━━━━━━━━━━━━━━━━━━\u001b[0m\u001b[37m\u001b[0m \u001b[1m0s\u001b[0m 27ms/step\n",
      "\u001b[1m1/1\u001b[0m \u001b[32m━━━━━━━━━━━━━━━━━━━━\u001b[0m\u001b[37m\u001b[0m \u001b[1m0s\u001b[0m 26ms/step\n",
      "\u001b[1m1/1\u001b[0m \u001b[32m━━━━━━━━━━━━━━━━━━━━\u001b[0m\u001b[37m\u001b[0m \u001b[1m0s\u001b[0m 31ms/step\n",
      "\u001b[1m1/1\u001b[0m \u001b[32m━━━━━━━━━━━━━━━━━━━━\u001b[0m\u001b[37m\u001b[0m \u001b[1m0s\u001b[0m 24ms/step\n",
      "\u001b[1m1/1\u001b[0m \u001b[32m━━━━━━━━━━━━━━━━━━━━\u001b[0m\u001b[37m\u001b[0m \u001b[1m0s\u001b[0m 29ms/step\n",
      "\u001b[1m1/1\u001b[0m \u001b[32m━━━━━━━━━━━━━━━━━━━━\u001b[0m\u001b[37m\u001b[0m \u001b[1m0s\u001b[0m 28ms/step\n",
      "\u001b[1m1/1\u001b[0m \u001b[32m━━━━━━━━━━━━━━━━━━━━\u001b[0m\u001b[37m\u001b[0m \u001b[1m0s\u001b[0m 28ms/step\n",
      "\u001b[1m1/1\u001b[0m \u001b[32m━━━━━━━━━━━━━━━━━━━━\u001b[0m\u001b[37m\u001b[0m \u001b[1m0s\u001b[0m 24ms/step\n",
      "\u001b[1m1/1\u001b[0m \u001b[32m━━━━━━━━━━━━━━━━━━━━\u001b[0m\u001b[37m\u001b[0m \u001b[1m0s\u001b[0m 25ms/step\n",
      "\u001b[1m1/1\u001b[0m \u001b[32m━━━━━━━━━━━━━━━━━━━━\u001b[0m\u001b[37m\u001b[0m \u001b[1m0s\u001b[0m 26ms/step\n",
      "\u001b[1m1/1\u001b[0m \u001b[32m━━━━━━━━━━━━━━━━━━━━\u001b[0m\u001b[37m\u001b[0m \u001b[1m0s\u001b[0m 27ms/step\n",
      "\u001b[1m1/1\u001b[0m \u001b[32m━━━━━━━━━━━━━━━━━━━━\u001b[0m\u001b[37m\u001b[0m \u001b[1m0s\u001b[0m 30ms/step\n",
      "\u001b[1m1/1\u001b[0m \u001b[32m━━━━━━━━━━━━━━━━━━━━\u001b[0m\u001b[37m\u001b[0m \u001b[1m0s\u001b[0m 29ms/step\n",
      "\u001b[1m1/1\u001b[0m \u001b[32m━━━━━━━━━━━━━━━━━━━━\u001b[0m\u001b[37m\u001b[0m \u001b[1m0s\u001b[0m 25ms/step\n",
      "\u001b[1m1/1\u001b[0m \u001b[32m━━━━━━━━━━━━━━━━━━━━\u001b[0m\u001b[37m\u001b[0m \u001b[1m0s\u001b[0m 22ms/step\n",
      "\u001b[1m1/1\u001b[0m \u001b[32m━━━━━━━━━━━━━━━━━━━━\u001b[0m\u001b[37m\u001b[0m \u001b[1m0s\u001b[0m 24ms/step\n",
      "\u001b[1m1/1\u001b[0m \u001b[32m━━━━━━━━━━━━━━━━━━━━\u001b[0m\u001b[37m\u001b[0m \u001b[1m0s\u001b[0m 26ms/step\n",
      "\u001b[1m1/1\u001b[0m \u001b[32m━━━━━━━━━━━━━━━━━━━━\u001b[0m\u001b[37m\u001b[0m \u001b[1m0s\u001b[0m 27ms/step\n"
     ]
    }
   ],
   "source": [
    "for _ in range(30):\n",
    "    next_pred = model.predict(future_inputs)\n",
    "    future_pred_lstm.append(next_pred[0, 0])\n",
    "    future_inputs = np.roll(future_inputs, -1, axis=1)\n",
    "    future_inputs[0, -1, 0] = next_pred"
   ]
  },
  {
   "cell_type": "code",
   "execution_count": 149,
   "id": "bf2b0763-07d9-42d6-8030-0a3d1018f37a",
   "metadata": {},
   "outputs": [
    {
     "data": {
      "text/plain": [
       "Timestamp('2019-12-30 00:00:00')"
      ]
     },
     "execution_count": 149,
     "metadata": {},
     "output_type": "execute_result"
    }
   ],
   "source": [
    "test_data.index[-1]"
   ]
  },
  {
   "cell_type": "code",
   "execution_count": 151,
   "id": "5c038d77-444e-47cb-b27f-e3a36d2e8339",
   "metadata": {},
   "outputs": [
    {
     "data": {
      "text/plain": [
       "Timestamp('2019-12-31 00:00:00', freq='B')"
      ]
     },
     "execution_count": 151,
     "metadata": {},
     "output_type": "execute_result"
    }
   ],
   "source": [
    "future_dates[0]"
   ]
  },
  {
   "cell_type": "code",
   "execution_count": 161,
   "id": "00038f22-0b43-4170-80bf-d13a52b9ecca",
   "metadata": {},
   "outputs": [],
   "source": [
    "# Converting scaled predictions back to actual values\n",
    "future_pred_lstm = scaler.inverse_transform(future_pred_lstm.reshape(-1, 1)).flatten()\n",
    "future_pred_lstm = future_pred_lstm[:30]\n",
    "\n",
    "# Generating future dates\n",
    "future_dates = pd.date_range(start=test_data.index[-1] + pd.Timedelta(days=1), periods=30, freq='B')"
   ]
  },
  {
   "cell_type": "code",
   "execution_count": 163,
   "id": "d4d666ca-7e52-47d5-8e37-55226af50474",
   "metadata": {},
   "outputs": [
    {
     "data": {
      "text/plain": [
       "(30,)"
      ]
     },
     "execution_count": 163,
     "metadata": {},
     "output_type": "execute_result"
    }
   ],
   "source": [
    "future_dates.shape"
   ]
  },
  {
   "cell_type": "code",
   "execution_count": 165,
   "id": "c1bbbc13-62ed-42b4-b9b4-4c10957ba8b6",
   "metadata": {},
   "outputs": [
    {
     "data": {
      "text/plain": [
       "(30,)"
      ]
     },
     "execution_count": 165,
     "metadata": {},
     "output_type": "execute_result"
    }
   ],
   "source": [
    "future_pred_lstm.shape"
   ]
  },
  {
   "cell_type": "code",
   "execution_count": 167,
   "id": "7d422d62-78f1-4c7d-858b-c0d7dbf6a209",
   "metadata": {},
   "outputs": [
    {
     "data": {
      "image/png": "[encoded data removed]",
      "text/plain": [
       "<Figure size 1200x600 with 1 Axes>"
      ]
     },
     "metadata": {},
     "output_type": "display_data"
    }
   ],
   "source": [
    "plt.figure(figsize=(12,6))\n",
    "plt.plot(test_data.index, test_data['Close'], label=\"Actual Test Data\", color='green')\n",
    "plt.plot(test_data.index[seq_length:], lstm_pred, label=\"LSTM Predictions\", color='orange', linestyle='dashed')\n",
    "plt.plot(future_dates, future_pred_lstm, label=\"LSTM 30-Day Forecast\", color='purple', linestyle='dotted')\n",
    "\n",
    "plt.xlabel(\"Date\")\n",
    "plt.ylabel(\"Stock Price\")\n",
    "plt.title(\"LSTM Model - Apple Stock Forecast (Next 30 Days)\")\n",
    "plt.legend()\n",
    "plt.grid(True)\n",
    "plt.show()"
   ]
  },
  {
   "cell_type": "markdown",
   "id": "bc97e7bb-5f21-4390-b2da-356f8f680c33",
   "metadata": {},
   "source": [
    "# Compare both models performance"
   ]
  },
  {
   "cell_type": "code",
   "execution_count": 173,
   "id": "c97656ff-9c03-45e9-88a3-4f33f6f56ddb",
   "metadata": {},
   "outputs": [
    {
     "name": "stdout",
     "output_type": "stream",
     "text": [
      "\n",
      "LSTM is the better model based on RMSE.\n"
     ]
    }
   ],
   "source": [
    "if lstm_rmse < rmse_arima:\n",
    "    print(\"\\nLSTM is the better model based on RMSE.\")\n",
    "else:\n",
    "    print(\"\\nARIMA is the better model based on RMSE.\")"
   ]
  },
  {
   "cell_type": "markdown",
   "id": "5d5f23d6-31ba-4bcb-b159-dd6f7212938f",
   "metadata": {},
   "source": [
    "# Key Observations:\n",
    "- Since the LSTM model has a significantly lower RMSE, it is the better model for predicting Apple stock prices.\n",
    "- LSTM Outperforms ARIMA\n",
    "- LSTM captures non-linear dependencies and complex patterns in stock prices, which ARIMA fails to do.\n",
    "- ARIMA struggles with sudden fluctuations and volatility, leading to higher errors.\n",
    "- ARIMA works well for stationary time series with clear trends, but stock prices are often volatile and affected by external factors.\n",
    "- It fails to adapt to long-term dependencies, which are crucial for stock price prediction.\n",
    "--> LSTM's Strength in Time Series Forecasting\n",
    "- LSTM remembers long-term dependencies in the data, making it ideal for stock market forecasting.\n",
    "- It effectively captures trends and seasonal effects without requiring explicit differencing (like ARIMA).\n",
    "-  LSTM is the best choice for predicting Apple stock prices"
   ]
  }
 ],
 "metadata": {
  "kernelspec": {
   "display_name": "Python [conda env:base] *",
   "language": "python",
   "name": "conda-base-py"
  },
  "language_info": {
   "codemirror_mode": {
    "name": "ipython",
    "version": 3
   },
   "file_extension": ".py",
   "mimetype": "text/x-python",
   "name": "python",
   "nbconvert_exporter": "python",
   "pygments_lexer": "ipython3",
   "version": "3.11.7"
  }
 },
 "nbformat": 4,
 "nbformat_minor": 5
}
